{
 "cells": [
  {
   "cell_type": "markdown",
   "metadata": {},
   "source": [
    "# Системы хранения и обработки данных. Домашнее задание 2.\n",
    "## Присяжнюк Артем Сергеевич"
   ]
  },
  {
   "cell_type": "markdown",
   "metadata": {},
   "source": [
    "# Подготовка"
   ]
  },
  {
   "cell_type": "code",
   "execution_count": 1,
   "metadata": {},
   "outputs": [
    {
     "name": "stdout",
     "output_type": "stream",
     "text": [
      "Requirement already satisfied: psycopg2 in /home/artempris/miniconda3/envs/dsps/lib/python3.10/site-packages (2.9.9)\n",
      "Note: you may need to restart the kernel to use updated packages.\n"
     ]
    }
   ],
   "source": [
    "%pip install psycopg2"
   ]
  },
  {
   "cell_type": "code",
   "execution_count": 1,
   "metadata": {},
   "outputs": [],
   "source": [
    "import psycopg2 as pg"
   ]
  },
  {
   "cell_type": "code",
   "execution_count": 274,
   "metadata": {},
   "outputs": [],
   "source": [
    "conn = pg.connect(dbname=\"postgres\", host=\"localhost\", user=\"postgres\", password=\"password\", port=5432)\n",
    "cursor = conn.cursor()"
   ]
  },
  {
   "cell_type": "markdown",
   "metadata": {},
   "source": [
    "# Задание 1"
   ]
  },
  {
   "cell_type": "markdown",
   "metadata": {},
   "source": [
    "## Создание таблиц"
   ]
  },
  {
   "cell_type": "code",
   "execution_count": 198,
   "metadata": {},
   "outputs": [],
   "source": [
    "cursor.execute(\"\"\"\n",
    "               create table transaction (\n",
    "                   transaction_id int4 NOT NULL PRIMARY KEY\n",
    "                   ,product_id int4\n",
    "                   ,customer_id int4 \n",
    "                   ,transaction_date varchar\n",
    "                   ,online_order varchar\n",
    "                   ,order_status varchar\n",
    "                   ,list_price float4\n",
    "                   ,brand varchar\n",
    "                   ,product_line varchar\n",
    "                   ,product_class varchar\n",
    "                   ,product_size varchar\n",
    "                   ,standard_cost float4                 \n",
    "               )\n",
    "               \"\"\")"
   ]
  },
  {
   "cell_type": "code",
   "execution_count": 199,
   "metadata": {},
   "outputs": [],
   "source": [
    "cursor.execute(\"\"\"\n",
    "               create table customer (\n",
    "                   customer_id int4 NOT NULL PRIMARY KEY\n",
    "                   ,first_name varchar\n",
    "                   ,last_name varchar\n",
    "                   ,gender varchar\n",
    "                   ,dob varchar\n",
    "                   ,job_title varchar\n",
    "                   ,job_industry_category varchar\n",
    "                   ,wealth_segment varchar\n",
    "                   ,deceased_indicator varchar\n",
    "                   ,owns_car varchar\n",
    "                   ,property_valuation int4\n",
    "                   ,address varchar\n",
    "                   ,postcode varchar\n",
    "                   ,state varchar\n",
    "                   ,country varchar                  \n",
    "               )\n",
    "               \"\"\")"
   ]
  },
  {
   "cell_type": "code",
   "execution_count": 200,
   "metadata": {},
   "outputs": [],
   "source": [
    "conn.commit()"
   ]
  },
  {
   "cell_type": "markdown",
   "metadata": {},
   "source": [
    "## Обработка данных"
   ]
  },
  {
   "cell_type": "code",
   "execution_count": 201,
   "metadata": {},
   "outputs": [
    {
     "data": {
      "text/html": [
       "<div>\n",
       "<style scoped>\n",
       "    .dataframe tbody tr th:only-of-type {\n",
       "        vertical-align: middle;\n",
       "    }\n",
       "\n",
       "    .dataframe tbody tr th {\n",
       "        vertical-align: top;\n",
       "    }\n",
       "\n",
       "    .dataframe thead th {\n",
       "        text-align: right;\n",
       "    }\n",
       "</style>\n",
       "<table border=\"1\" class=\"dataframe\">\n",
       "  <thead>\n",
       "    <tr style=\"text-align: right;\">\n",
       "      <th></th>\n",
       "      <th>transaction_id</th>\n",
       "      <th>product_id</th>\n",
       "      <th>customer_id</th>\n",
       "      <th>transaction_date</th>\n",
       "      <th>online_order</th>\n",
       "      <th>order_status</th>\n",
       "      <th>brand</th>\n",
       "      <th>product_line</th>\n",
       "      <th>product_class</th>\n",
       "      <th>product_size</th>\n",
       "      <th>list_price</th>\n",
       "      <th>standard_cost</th>\n",
       "    </tr>\n",
       "  </thead>\n",
       "  <tbody>\n",
       "    <tr>\n",
       "      <th>0</th>\n",
       "      <td>1</td>\n",
       "      <td>2</td>\n",
       "      <td>2950</td>\n",
       "      <td>25.02.2017</td>\n",
       "      <td>False</td>\n",
       "      <td>Approved</td>\n",
       "      <td>Solex</td>\n",
       "      <td>Standard</td>\n",
       "      <td>medium</td>\n",
       "      <td>medium</td>\n",
       "      <td>71,49</td>\n",
       "      <td>53,62</td>\n",
       "    </tr>\n",
       "    <tr>\n",
       "      <th>1</th>\n",
       "      <td>2</td>\n",
       "      <td>3</td>\n",
       "      <td>3120</td>\n",
       "      <td>21.05.2017</td>\n",
       "      <td>True</td>\n",
       "      <td>Approved</td>\n",
       "      <td>Trek Bicycles</td>\n",
       "      <td>Standard</td>\n",
       "      <td>medium</td>\n",
       "      <td>large</td>\n",
       "      <td>2091,47</td>\n",
       "      <td>388,92</td>\n",
       "    </tr>\n",
       "    <tr>\n",
       "      <th>2</th>\n",
       "      <td>3</td>\n",
       "      <td>37</td>\n",
       "      <td>402</td>\n",
       "      <td>16.10.2017</td>\n",
       "      <td>False</td>\n",
       "      <td>Approved</td>\n",
       "      <td>OHM Cycles</td>\n",
       "      <td>Standard</td>\n",
       "      <td>low</td>\n",
       "      <td>medium</td>\n",
       "      <td>1793,43</td>\n",
       "      <td>248,82</td>\n",
       "    </tr>\n",
       "    <tr>\n",
       "      <th>3</th>\n",
       "      <td>4</td>\n",
       "      <td>88</td>\n",
       "      <td>3135</td>\n",
       "      <td>31.08.2017</td>\n",
       "      <td>False</td>\n",
       "      <td>Approved</td>\n",
       "      <td>Norco Bicycles</td>\n",
       "      <td>Standard</td>\n",
       "      <td>medium</td>\n",
       "      <td>medium</td>\n",
       "      <td>1198,46</td>\n",
       "      <td>381,10</td>\n",
       "    </tr>\n",
       "    <tr>\n",
       "      <th>4</th>\n",
       "      <td>5</td>\n",
       "      <td>78</td>\n",
       "      <td>787</td>\n",
       "      <td>01.10.2017</td>\n",
       "      <td>True</td>\n",
       "      <td>Approved</td>\n",
       "      <td>Giant Bicycles</td>\n",
       "      <td>Standard</td>\n",
       "      <td>medium</td>\n",
       "      <td>large</td>\n",
       "      <td>1765,3</td>\n",
       "      <td>709,48</td>\n",
       "    </tr>\n",
       "  </tbody>\n",
       "</table>\n",
       "</div>"
      ],
      "text/plain": [
       "   transaction_id  product_id  customer_id transaction_date online_order  \\\n",
       "0               1           2         2950       25.02.2017        False   \n",
       "1               2           3         3120       21.05.2017         True   \n",
       "2               3          37          402       16.10.2017        False   \n",
       "3               4          88         3135       31.08.2017        False   \n",
       "4               5          78          787       01.10.2017         True   \n",
       "\n",
       "  order_status           brand product_line product_class product_size  \\\n",
       "0     Approved           Solex     Standard        medium       medium   \n",
       "1     Approved   Trek Bicycles     Standard        medium        large   \n",
       "2     Approved      OHM Cycles     Standard           low       medium   \n",
       "3     Approved  Norco Bicycles     Standard        medium       medium   \n",
       "4     Approved  Giant Bicycles     Standard        medium        large   \n",
       "\n",
       "  list_price standard_cost  \n",
       "0      71,49         53,62  \n",
       "1    2091,47        388,92  \n",
       "2    1793,43        248,82  \n",
       "3    1198,46        381,10  \n",
       "4     1765,3        709,48  "
      ]
     },
     "execution_count": 201,
     "metadata": {},
     "output_type": "execute_result"
    }
   ],
   "source": [
    "import pandas as pd\n",
    "\n",
    "df_transaction = pd.read_csv(\"data/transaction.csv\", sep=';')\n",
    "df_transaction.head()"
   ]
  },
  {
   "cell_type": "code",
   "execution_count": 202,
   "metadata": {},
   "outputs": [],
   "source": [
    "df_transaction.standard_cost = df_transaction.standard_cost.apply(lambda x: float(str(x).replace(',', '.')))\n",
    "df_transaction.list_price = df_transaction.list_price.apply(lambda x: float(str(x).replace(',', '.')))"
   ]
  },
  {
   "cell_type": "code",
   "execution_count": 203,
   "metadata": {},
   "outputs": [
    {
     "name": "stdout",
     "output_type": "stream",
     "text": [
      "<class 'pandas.core.frame.DataFrame'>\n",
      "RangeIndex: 20000 entries, 0 to 19999\n",
      "Data columns (total 12 columns):\n",
      " #   Column            Non-Null Count  Dtype  \n",
      "---  ------            --------------  -----  \n",
      " 0   transaction_id    20000 non-null  int64  \n",
      " 1   product_id        20000 non-null  int64  \n",
      " 2   customer_id       20000 non-null  int64  \n",
      " 3   transaction_date  20000 non-null  object \n",
      " 4   online_order      19640 non-null  object \n",
      " 5   order_status      20000 non-null  object \n",
      " 6   brand             19803 non-null  object \n",
      " 7   product_line      19803 non-null  object \n",
      " 8   product_class     19803 non-null  object \n",
      " 9   product_size      19803 non-null  object \n",
      " 10  list_price        20000 non-null  float64\n",
      " 11  standard_cost     19803 non-null  float64\n",
      "dtypes: float64(2), int64(3), object(7)\n",
      "memory usage: 1.8+ MB\n"
     ]
    }
   ],
   "source": [
    "df_transaction.info()"
   ]
  },
  {
   "cell_type": "code",
   "execution_count": 204,
   "metadata": {},
   "outputs": [
    {
     "data": {
      "text/html": [
       "<div>\n",
       "<style scoped>\n",
       "    .dataframe tbody tr th:only-of-type {\n",
       "        vertical-align: middle;\n",
       "    }\n",
       "\n",
       "    .dataframe tbody tr th {\n",
       "        vertical-align: top;\n",
       "    }\n",
       "\n",
       "    .dataframe thead th {\n",
       "        text-align: right;\n",
       "    }\n",
       "</style>\n",
       "<table border=\"1\" class=\"dataframe\">\n",
       "  <thead>\n",
       "    <tr style=\"text-align: right;\">\n",
       "      <th></th>\n",
       "      <th>customer_id</th>\n",
       "      <th>first_name</th>\n",
       "      <th>last_name</th>\n",
       "      <th>gender</th>\n",
       "      <th>DOB</th>\n",
       "      <th>job_title</th>\n",
       "      <th>job_industry_category</th>\n",
       "      <th>wealth_segment</th>\n",
       "      <th>deceased_indicator</th>\n",
       "      <th>owns_car</th>\n",
       "      <th>address</th>\n",
       "      <th>postcode</th>\n",
       "      <th>state</th>\n",
       "      <th>country</th>\n",
       "      <th>property_valuation</th>\n",
       "    </tr>\n",
       "  </thead>\n",
       "  <tbody>\n",
       "    <tr>\n",
       "      <th>0</th>\n",
       "      <td>1</td>\n",
       "      <td>Laraine</td>\n",
       "      <td>Medendorp</td>\n",
       "      <td>F</td>\n",
       "      <td>1953-10-12</td>\n",
       "      <td>Executive Secretary</td>\n",
       "      <td>Health</td>\n",
       "      <td>Mass Customer</td>\n",
       "      <td>N</td>\n",
       "      <td>Yes</td>\n",
       "      <td>060 Morning Avenue</td>\n",
       "      <td>2016</td>\n",
       "      <td>New South Wales</td>\n",
       "      <td>Australia</td>\n",
       "      <td>10</td>\n",
       "    </tr>\n",
       "    <tr>\n",
       "      <th>1</th>\n",
       "      <td>2</td>\n",
       "      <td>Eli</td>\n",
       "      <td>Bockman</td>\n",
       "      <td>Male</td>\n",
       "      <td>1980-12-16</td>\n",
       "      <td>Administrative Officer</td>\n",
       "      <td>Financial Services</td>\n",
       "      <td>Mass Customer</td>\n",
       "      <td>N</td>\n",
       "      <td>Yes</td>\n",
       "      <td>6 Meadow Vale Court</td>\n",
       "      <td>2153</td>\n",
       "      <td>New South Wales</td>\n",
       "      <td>Australia</td>\n",
       "      <td>10</td>\n",
       "    </tr>\n",
       "    <tr>\n",
       "      <th>2</th>\n",
       "      <td>3</td>\n",
       "      <td>Arlin</td>\n",
       "      <td>Dearle</td>\n",
       "      <td>Male</td>\n",
       "      <td>1954-01-20</td>\n",
       "      <td>Recruiting Manager</td>\n",
       "      <td>Property</td>\n",
       "      <td>Mass Customer</td>\n",
       "      <td>N</td>\n",
       "      <td>Yes</td>\n",
       "      <td>0 Holy Cross Court</td>\n",
       "      <td>4211</td>\n",
       "      <td>QLD</td>\n",
       "      <td>Australia</td>\n",
       "      <td>9</td>\n",
       "    </tr>\n",
       "    <tr>\n",
       "      <th>3</th>\n",
       "      <td>4</td>\n",
       "      <td>Talbot</td>\n",
       "      <td>NaN</td>\n",
       "      <td>Male</td>\n",
       "      <td>1961-10-03</td>\n",
       "      <td>NaN</td>\n",
       "      <td>IT</td>\n",
       "      <td>Mass Customer</td>\n",
       "      <td>N</td>\n",
       "      <td>No</td>\n",
       "      <td>17979 Del Mar Point</td>\n",
       "      <td>2448</td>\n",
       "      <td>New South Wales</td>\n",
       "      <td>Australia</td>\n",
       "      <td>4</td>\n",
       "    </tr>\n",
       "    <tr>\n",
       "      <th>4</th>\n",
       "      <td>5</td>\n",
       "      <td>Sheila-kathryn</td>\n",
       "      <td>Calton</td>\n",
       "      <td>Female</td>\n",
       "      <td>1977-05-13</td>\n",
       "      <td>Senior Editor</td>\n",
       "      <td>NaN</td>\n",
       "      <td>Affluent Customer</td>\n",
       "      <td>N</td>\n",
       "      <td>Yes</td>\n",
       "      <td>9 Oakridge Court</td>\n",
       "      <td>3216</td>\n",
       "      <td>VIC</td>\n",
       "      <td>Australia</td>\n",
       "      <td>9</td>\n",
       "    </tr>\n",
       "  </tbody>\n",
       "</table>\n",
       "</div>"
      ],
      "text/plain": [
       "   customer_id      first_name  last_name  gender         DOB  \\\n",
       "0            1         Laraine  Medendorp       F  1953-10-12   \n",
       "1            2             Eli    Bockman    Male  1980-12-16   \n",
       "2            3           Arlin     Dearle    Male  1954-01-20   \n",
       "3            4          Talbot        NaN    Male  1961-10-03   \n",
       "4            5  Sheila-kathryn     Calton  Female  1977-05-13   \n",
       "\n",
       "                job_title job_industry_category     wealth_segment  \\\n",
       "0     Executive Secretary                Health      Mass Customer   \n",
       "1  Administrative Officer    Financial Services      Mass Customer   \n",
       "2      Recruiting Manager              Property      Mass Customer   \n",
       "3                     NaN                    IT      Mass Customer   \n",
       "4           Senior Editor                   NaN  Affluent Customer   \n",
       "\n",
       "  deceased_indicator owns_car              address  postcode            state  \\\n",
       "0                  N      Yes   060 Morning Avenue      2016  New South Wales   \n",
       "1                  N      Yes  6 Meadow Vale Court      2153  New South Wales   \n",
       "2                  N      Yes   0 Holy Cross Court      4211              QLD   \n",
       "3                  N       No  17979 Del Mar Point      2448  New South Wales   \n",
       "4                  N      Yes     9 Oakridge Court      3216              VIC   \n",
       "\n",
       "     country  property_valuation  \n",
       "0  Australia                  10  \n",
       "1  Australia                  10  \n",
       "2  Australia                   9  \n",
       "3  Australia                   4  \n",
       "4  Australia                   9  "
      ]
     },
     "execution_count": 204,
     "metadata": {},
     "output_type": "execute_result"
    }
   ],
   "source": [
    "df_customer = pd.read_csv(\"data/customer.csv\", sep=';')\n",
    "df_customer.head()"
   ]
  },
  {
   "cell_type": "code",
   "execution_count": 205,
   "metadata": {},
   "outputs": [
    {
     "data": {
      "text/plain": [
       "(array(['N', 'Y'], dtype=object), array(['Yes', 'No'], dtype=object))"
      ]
     },
     "execution_count": 205,
     "metadata": {},
     "output_type": "execute_result"
    }
   ],
   "source": [
    "df_customer['deceased_indicator'].unique(), df_customer['owns_car'].unique()"
   ]
  },
  {
   "cell_type": "code",
   "execution_count": 206,
   "metadata": {},
   "outputs": [
    {
     "data": {
      "text/plain": [
       "array(['F', 'Male', 'Female', 'U', 'Femal', 'M'], dtype=object)"
      ]
     },
     "execution_count": 206,
     "metadata": {},
     "output_type": "execute_result"
    }
   ],
   "source": [
    "df_customer['gender'].unique()"
   ]
  },
  {
   "cell_type": "code",
   "execution_count": 207,
   "metadata": {},
   "outputs": [],
   "source": [
    "df_customer['gender'].replace({'Female': 'F', 'Femal': 'F', 'Male': 'M'}, inplace=True)"
   ]
  },
  {
   "cell_type": "code",
   "execution_count": 208,
   "metadata": {},
   "outputs": [
    {
     "data": {
      "text/plain": [
       "(array(['Australia'], dtype=object),\n",
       " array(['New South Wales', 'QLD', 'VIC', 'NSW', 'Victoria'], dtype=object))"
      ]
     },
     "execution_count": 208,
     "metadata": {},
     "output_type": "execute_result"
    }
   ],
   "source": [
    "df_customer['country'].unique(), df_customer['state'].unique()"
   ]
  },
  {
   "cell_type": "code",
   "execution_count": 209,
   "metadata": {},
   "outputs": [],
   "source": [
    "df_customer['state'].replace({'New South Wales': 'NSW', 'Victoria': 'VIC'}, inplace=True)"
   ]
  },
  {
   "cell_type": "code",
   "execution_count": 210,
   "metadata": {},
   "outputs": [],
   "source": [
    "df_customer.rename({'DOB': 'dob'}, axis=1, inplace=True)"
   ]
  },
  {
   "cell_type": "code",
   "execution_count": 211,
   "metadata": {},
   "outputs": [
    {
     "name": "stdout",
     "output_type": "stream",
     "text": [
      "<class 'pandas.core.frame.DataFrame'>\n",
      "RangeIndex: 4000 entries, 0 to 3999\n",
      "Data columns (total 15 columns):\n",
      " #   Column                 Non-Null Count  Dtype \n",
      "---  ------                 --------------  ----- \n",
      " 0   customer_id            4000 non-null   int64 \n",
      " 1   first_name             4000 non-null   object\n",
      " 2   last_name              3875 non-null   object\n",
      " 3   gender                 4000 non-null   object\n",
      " 4   dob                    3913 non-null   object\n",
      " 5   job_title              3494 non-null   object\n",
      " 6   job_industry_category  3344 non-null   object\n",
      " 7   wealth_segment         4000 non-null   object\n",
      " 8   deceased_indicator     4000 non-null   object\n",
      " 9   owns_car               4000 non-null   object\n",
      " 10  address                4000 non-null   object\n",
      " 11  postcode               4000 non-null   int64 \n",
      " 12  state                  4000 non-null   object\n",
      " 13  country                4000 non-null   object\n",
      " 14  property_valuation     4000 non-null   int64 \n",
      "dtypes: int64(3), object(12)\n",
      "memory usage: 468.9+ KB\n"
     ]
    }
   ],
   "source": [
    "df_customer.info()"
   ]
  },
  {
   "cell_type": "code",
   "execution_count": null,
   "metadata": {},
   "outputs": [],
   "source": []
  },
  {
   "cell_type": "code",
   "execution_count": 212,
   "metadata": {},
   "outputs": [],
   "source": [
    "transaction_names = [\n",
    "    'transaction_id', 'transaction_date',\n",
    "    'online_order', 'order_status',\n",
    "    'list_price', \n",
    "    'product_id', 'customer_id',\n",
    "    'brand',\n",
    "    'product_line', 'product_class',\n",
    "    'product_size', 'standard_cost'\n",
    "    \n",
    "]\n",
    "\n",
    "customer_names = [\n",
    "    'customer_id', 'first_name', 'last_name',\n",
    "    'gender', 'dob',\n",
    "    'job_title', 'job_industry_category',\n",
    "    'wealth_segment', 'property_valuation', 'owns_car',\n",
    "    'deceased_indicator',\n",
    "    'address', 'country',\n",
    "    'state', 'postcode'\n",
    "]"
   ]
  },
  {
   "cell_type": "code",
   "execution_count": 213,
   "metadata": {},
   "outputs": [
    {
     "data": {
      "text/plain": [
       "((20000, 12), 20000)"
      ]
     },
     "execution_count": 213,
     "metadata": {},
     "output_type": "execute_result"
    }
   ],
   "source": [
    "df_transaction.shape, df_transaction.transaction_id.nunique()"
   ]
  },
  {
   "cell_type": "code",
   "execution_count": 214,
   "metadata": {},
   "outputs": [
    {
     "data": {
      "text/plain": [
       "((4000, 15), 4000)"
      ]
     },
     "execution_count": 214,
     "metadata": {},
     "output_type": "execute_result"
    }
   ],
   "source": [
    "df_customer.shape, df_customer.customer_id.nunique()"
   ]
  },
  {
   "cell_type": "code",
   "execution_count": 162,
   "metadata": {},
   "outputs": [],
   "source": [
    "# nat_mask = df_customer.dob.apply(lambda x: x is pd.NaT)\n",
    "# na_mask = df_customer.dob.isna()\n",
    "# df_customer.loc[nat_mask | na_mask, \"dob\"] = pd.to_datetime(0) # because postgresql does not accept NaT"
   ]
  },
  {
   "cell_type": "code",
   "execution_count": null,
   "metadata": {},
   "outputs": [],
   "source": []
  },
  {
   "cell_type": "code",
   "execution_count": 151,
   "metadata": {},
   "outputs": [
    {
     "name": "stdout",
     "output_type": "stream",
     "text": [
      "Collecting tqdm\n",
      "  Using cached tqdm-4.66.1-py3-none-any.whl.metadata (57 kB)\n",
      "Using cached tqdm-4.66.1-py3-none-any.whl (78 kB)\n",
      "Installing collected packages: tqdm\n",
      "Successfully installed tqdm-4.66.1\n",
      "Note: you may need to restart the kernel to use updated packages.\n"
     ]
    }
   ],
   "source": [
    "%pip install tqdm"
   ]
  },
  {
   "cell_type": "code",
   "execution_count": 215,
   "metadata": {},
   "outputs": [
    {
     "name": "stderr",
     "output_type": "stream",
     "text": [
      "20000it [00:20, 960.03it/s] \n"
     ]
    }
   ],
   "source": [
    "from tqdm import tqdm\n",
    "\n",
    "for _, row_t in tqdm(df_transaction.iterrows()):\n",
    "    cursor.execute(f\"\"\"\n",
    "                insert into transaction ({','.join(transaction_names)})\n",
    "                values (%s{', %s' * (len(transaction_names)-1)})\n",
    "                on conflict do nothing\n",
    "                \"\"\", row_t[transaction_names])"
   ]
  },
  {
   "cell_type": "code",
   "execution_count": 227,
   "metadata": {},
   "outputs": [
    {
     "name": "stderr",
     "output_type": "stream",
     "text": [
      "4000it [00:04, 813.92it/s]\n"
     ]
    }
   ],
   "source": [
    "for _, row_c in tqdm(df_customer.iterrows()):\n",
    "    cursor.execute(f\"\"\"\n",
    "                insert into customer ({','.join(customer_names)})\n",
    "                values (%s{', %s' * (len(customer_names)-1)})\n",
    "                on conflict do nothing\n",
    "                \"\"\", row_c[customer_names])"
   ]
  },
  {
   "cell_type": "code",
   "execution_count": 228,
   "metadata": {},
   "outputs": [],
   "source": [
    "conn.commit()"
   ]
  },
  {
   "cell_type": "markdown",
   "metadata": {},
   "source": [
    "# Задание 2"
   ]
  },
  {
   "cell_type": "markdown",
   "metadata": {},
   "source": [
    "### 2.1"
   ]
  },
  {
   "cell_type": "code",
   "execution_count": 278,
   "metadata": {},
   "outputs": [],
   "source": [
    "conn.rollback()"
   ]
  },
  {
   "cell_type": "code",
   "execution_count": 279,
   "metadata": {},
   "outputs": [
    {
     "name": "stdout",
     "output_type": "stream",
     "text": [
      "[('NaN',), ('OHM Cycles',), ('Trek Bicycles',), ('Solex',), ('Giant Bicycles',)]\n"
     ]
    }
   ],
   "source": [
    "cursor.execute(f\"\"\"\n",
    "                select distinct brand\n",
    "                from transaction\n",
    "                where standard_cost > 1500\n",
    "                \"\"\")\n",
    "print(cursor.fetchall())"
   ]
  },
  {
   "cell_type": "code",
   "execution_count": 104,
   "metadata": {},
   "outputs": [
    {
     "data": {
      "text/plain": [
       "array(['Solex', 'Trek Bicycles', 'OHM Cycles', 'Norco Bicycles',\n",
       "       'Giant Bicycles', 'WeareA2B', nan], dtype=object)"
      ]
     },
     "execution_count": 104,
     "metadata": {},
     "output_type": "execute_result"
    }
   ],
   "source": [
    "df_transaction.brand.unique()"
   ]
  },
  {
   "cell_type": "code",
   "execution_count": 103,
   "metadata": {},
   "outputs": [
    {
     "data": {
      "text/plain": [
       "array(['Trek Bicycles', 'Giant Bicycles', 'OHM Cycles', 'Solex'],\n",
       "      dtype=object)"
      ]
     },
     "execution_count": 103,
     "metadata": {},
     "output_type": "execute_result"
    }
   ],
   "source": [
    "df_transaction.loc[df_transaction['standard_cost'] > 1500, 'brand'].unique()"
   ]
  },
  {
   "cell_type": "markdown",
   "metadata": {},
   "source": [
    "### 2.2"
   ]
  },
  {
   "cell_type": "code",
   "execution_count": 265,
   "metadata": {},
   "outputs": [
    {
     "name": "stdout",
     "output_type": "stream",
     "text": [
      "531\n",
      "[(15576, 68, 2820, '01.04.2017', 'true', 'Approved', 1636.9, 'OHM Cycles', 'Standard', 'medium', 'medium', 44.71), (16621, 90, 2072, '01.04.2017', 'false', 'Approved', 363.01, 'Norco Bicycles', 'Standard', 'low', 'medium', 290.41), (2146, 8, 3096, '01.04.2017', 'true', 'Approved', 1703.52, 'Solex', 'Road', 'medium', 'small', 1516.13), (15488, 64, 906, '01.04.2017', 'true', 'Approved', 1977.36, 'Giant Bicycles', 'Standard', 'high', 'small', 1759.85), (5922, 8, 1831, '01.04.2017', 'true', 'Approved', 1703.52, 'Solex', 'Road', 'medium', 'small', 1516.13), (14684, 18, 2424, '01.04.2017', 'false', 'Approved', 575.27, 'Solex', 'Standard', 'medium', 'medium', 431.45), (9378, 19, 1053, '01.04.2017', 'true', 'Approved', 12.01, 'OHM Cycles', 'Road', 'high', 'large', 7.21), (2370, 45, 2526, '01.04.2017', 'false', 'Approved', 441.49, 'Solex', 'Standard', 'medium', 'medium', 84.99), (6717, 30, 1985, '01.04.2017', 'true', 'Approved', 748.17, 'Solex', 'Standard', 'high', 'medium', 448.9), (14394, 49, 3318, '01.04.2017', 'true', 'Approved', 1061.56, 'Solex', 'Standard', 'medium', 'large', 733.58), (1044, 54, 1839, '01.04.2017', 'true', 'Approved', 1807.45, 'WeareA2B', 'Standard', 'medium', 'medium', 778.69), (2451, 90, 2279, '01.04.2017', 'false', 'Approved', 363.01, 'Norco Bicycles', 'Standard', 'low', 'medium', 290.41), (13085, 15, 1818, '01.04.2017', 'true', 'Approved', 958.74, 'Norco Bicycles', 'Standard', 'low', 'medium', 748.9), (15876, 35, 1982, '01.04.2017', 'true', 'Approved', 1403.5, 'Giant Bicycles', 'Standard', 'medium', 'medium', 954.82), (6046, 21, 1917, '01.04.2017', 'false', 'Approved', 1071.23, 'Solex', 'Standard', 'medium', 'large', 380.74), (2551, 90, 2109, '01.04.2017', 'false', 'Approved', 945.04, 'Solex', 'Standard', 'low', 'medium', 507.58), (18041, 27, 3190, '01.04.2017', 'true', 'Approved', 499.53, 'Trek Bicycles', 'Standard', 'medium', 'medium', 388.72), (18960, 80, 1402, '01.04.2017', 'true', 'Approved', 1073.07, 'OHM Cycles', 'Touring', 'low', 'medium', 933.84), (7302, 24, 606, '01.04.2017', 'true', 'Approved', 1777.8, 'Solex', 'Road', 'medium', 'large', 820.78), (2660, 87, 430, '01.04.2017', 'false', 'Approved', 1636.9, 'OHM Cycles', 'Standard', 'medium', 'medium', 44.71), (13579, 0, 1586, '01.04.2017', 'false', 'Approved', 544.05, 'Norco Bicycles', 'Road', 'medium', 'medium', 376.84), (19354, 74, 296, '01.04.2017', 'true', 'Approved', 1762.96, 'WeareA2B', 'Standard', 'medium', 'medium', 950.52), (15860, 84, 2810, '01.04.2017', 'false', 'Approved', 290.62, 'Trek Bicycles', 'Road', 'medium', 'medium', 215.14), (83, 0, 3398, '01.04.2017', 'true', 'Approved', 235.63, 'OHM Cycles', 'Standard', 'medium', 'medium', 125.07), (9625, 1, 3317, '01.04.2017', 'false', 'Approved', 1403.5, 'Giant Bicycles', 'Standard', 'medium', 'medium', 954.82), (14237, 71, 1049, '01.04.2017', 'true', 'Approved', 1842.92, 'Solex', 'Standard', 'high', 'large', 1105.75), (8383, 65, 1300, '01.04.2017', 'false', 'Approved', 1807.45, 'WeareA2B', 'Standard', 'medium', 'medium', 778.69), (18542, 1, 1736, '01.04.2017', 'false', 'Approved', 1403.5, 'Giant Bicycles', 'Standard', 'medium', 'medium', 954.82), (3524, 3, 2510, '01.04.2017', 'true', 'Approved', 2091.47, 'Trek Bicycles', 'Standard', 'medium', 'large', 388.92), (17542, 74, 3353, '01.04.2017', 'true', 'Approved', 1228.07, 'WeareA2B', 'Standard', 'medium', 'medium', 400.91), (17660, 12, 1837, '01.04.2017', 'true', 'Approved', 1231.15, 'WeareA2B', 'Standard', 'medium', 'medium', 161.6), (11242, 29, 1915, '01.04.2017', 'false', 'Approved', 543.39, 'Norco Bicycles', 'Road', 'medium', 'medium', 407.54), (5099, 62, 150, '01.04.2017', 'false', 'Approved', 478.16, 'Solex', 'Standard', 'medium', 'medium', 298.72), (8377, 17, 1725, '01.04.2017', 'true', 'Approved', 1362.99, 'WeareA2B', 'Touring', 'medium', 'large', 57.74), (126, 53, 773, '01.04.2017', 'false', 'Approved', 795.34, 'OHM Cycles', 'Standard', 'medium', 'medium', 101.58), (11196, 21, 1673, '01.04.2017', 'true', 'Approved', 1071.23, 'Solex', 'Standard', 'medium', 'large', 380.74), (11161, 95, 612, '01.04.2017', 'NaN', 'Approved', 569.56, 'Giant Bicycles', 'Standard', 'medium', 'large', 528.43), (6438, 46, 3224, '01.04.2017', 'true', 'Approved', 1289.85, 'Solex', 'Standard', 'low', 'medium', 74.51), (16779, 32, 1024, '01.04.2017', 'true', 'Approved', 1179.0, 'Giant Bicycles', 'Standard', 'high', 'medium', 707.4), (14541, 34, 1440, '01.04.2017', 'false', 'Approved', 1231.15, 'WeareA2B', 'Standard', 'medium', 'medium', 161.6), (9703, 38, 1324, '01.04.2017', 'true', 'Approved', 1577.53, 'Solex', 'Standard', 'medium', 'medium', 826.51), (15538, 68, 1446, '01.04.2017', 'true', 'Approved', 1636.9, 'OHM Cycles', 'Standard', 'medium', 'medium', 44.71), (8626, 24, 2390, '01.04.2017', 'NaN', 'Approved', 1777.8, 'Solex', 'Road', 'medium', 'large', 820.78), (13298, 64, 2182, '01.04.2017', 'true', 'Approved', 1977.36, 'Giant Bicycles', 'Standard', 'high', 'small', 1759.85), (10031, 43, 1912, '01.04.2017', 'false', 'Approved', 1555.58, 'Norco Bicycles', 'Standard', 'medium', 'medium', 818.01), (15559, 100, 778, '01.04.2017', 'false', 'Approved', 1386.84, 'Trek Bicycles', 'Standard', 'medium', 'small', 1234.29), (8265, 100, 3483, '01.04.2017', 'true', 'Approved', 1386.84, 'Trek Bicycles', 'Standard', 'medium', 'small', 1234.29), (4492, 2, 1645, '01.04.2017', 'true', 'Approved', 71.49, 'Solex', 'Standard', 'medium', 'medium', 53.62), (15291, 28, 25, '01.04.2017', 'true', 'Approved', 1216.14, 'Norco Bicycles', 'Standard', 'medium', 'small', 1082.36), (13048, 25, 2594, '01.04.2017', 'true', 'Approved', 1538.99, 'Giant Bicycles', 'Road', 'medium', 'medium', 829.65), (13515, 39, 787, '01.04.2017', 'true', 'Approved', 1812.75, 'Giant Bicycles', 'Standard', 'medium', 'large', 582.48), (13898, 50, 905, '01.04.2017', 'false', 'Approved', 175.89, 'WeareA2B', 'Standard', 'medium', 'small', 131.92), (1911, 0, 1109, '01.04.2017', 'true', 'Approved', 543.39, 'Norco Bicycles', 'Road', 'medium', 'medium', 407.54), (1930, 69, 2318, '01.04.2017', 'true', 'Approved', 792.9, 'Giant Bicycles', 'Road', 'medium', 'medium', 594.68), (13561, 57, 2927, '01.04.2017', 'true', 'Approved', 1890.39, 'WeareA2B', 'Touring', 'medium', 'large', 260.14), (10608, 74, 991, '01.04.2017', 'false', 'Approved', 1228.07, 'WeareA2B', 'Standard', 'medium', 'medium', 400.91), (8259, 2, 3335, '01.04.2017', 'true', 'Approved', 71.49, 'Solex', 'Standard', 'medium', 'medium', 53.62), (16867, 48, 890, '01.04.2017', 'false', 'Approved', 1762.96, 'WeareA2B', 'Standard', 'medium', 'medium', 950.52), (15980, 0, 2059, '01.04.2017', 'true', 'Approved', 290.62, 'Trek Bicycles', 'Road', 'medium', 'medium', 215.14), (16606, 69, 164, '01.04.2017', 'true', 'Approved', 792.9, 'Giant Bicycles', 'Road', 'medium', 'medium', 594.68), (13563, 0, 1141, '02.04.2017', 'true', 'Approved', 71.49, 'Solex', 'Standard', 'medium', 'medium', 53.62), (8789, 34, 215, '02.04.2017', 'false', 'Approved', 1231.15, 'WeareA2B', 'Standard', 'medium', 'medium', 161.6), (17407, 61, 1245, '02.04.2017', 'true', 'Approved', 71.16, 'OHM Cycles', 'Standard', 'low', 'medium', 56.93), (8304, 3, 2309, '02.04.2017', 'false', 'Approved', 2091.47, 'Trek Bicycles', 'Standard', 'medium', 'large', 388.92), (17255, 42, 1813, '02.04.2017', 'false', 'Approved', 1810.0, 'OHM Cycles', 'Road', 'medium', 'small', 1610.9), (6899, 7, 3199, '02.04.2017', 'true', 'Approved', 980.37, 'Trek Bicycles', 'Road', 'low', 'medium', 234.43), (904, 67, 3195, '02.04.2017', 'false', 'Approved', 544.05, 'Norco Bicycles', 'Road', 'medium', 'medium', 376.84), (14612, 90, 1729, '02.04.2017', 'true', 'Approved', 945.04, 'Solex', 'Standard', 'low', 'medium', 507.58), (7266, 90, 2104, '02.04.2017', 'false', 'Approved', 363.01, 'Norco Bicycles', 'Standard', 'low', 'medium', 290.41), (7388, 42, 995, '02.04.2017', 'false', 'Approved', 1810.0, 'OHM Cycles', 'Road', 'medium', 'small', 1610.9), (17108, 94, 3304, '02.04.2017', 'true', 'Approved', 1635.3, 'Giant Bicycles', 'Standard', 'medium', 'large', 993.66), (7493, 1, 3482, '02.04.2017', 'false', 'Approved', 1403.5, 'Giant Bicycles', 'Standard', 'medium', 'medium', 954.82), (7695, 0, 23, '02.04.2017', 'true', 'Approved', 2037.77, 'NaN', 'NaN', 'NaN', 'NaN', nan), (7674, 80, 26, '02.04.2017', 'true', 'Approved', 1073.07, 'OHM Cycles', 'Touring', 'low', 'medium', 933.84), (19299, 73, 2824, '02.04.2017', 'false', 'Approved', 1945.43, 'Solex', 'Standard', 'medium', 'medium', 333.18), (1653, 27, 230, '02.04.2017', 'false', 'Approved', 1057.51, 'Trek Bicycles', 'Standard', 'low', 'medium', 154.4), (12963, 99, 2685, '02.04.2017', 'true', 'Approved', 1227.34, 'OHM Cycles', 'Standard', 'medium', 'medium', 770.89), (2010, 24, 3170, '02.04.2017', 'true', 'Approved', 1777.8, 'Solex', 'Road', 'medium', 'large', 820.78), (12184, 91, 962, '02.04.2017', 'true', 'Approved', 642.31, 'WeareA2B', 'Standard', 'low', 'medium', 513.85), (2055, 73, 2357, '02.04.2017', 'true', 'Approved', 1945.43, 'Solex', 'Standard', 'medium', 'medium', 333.18), (11938, 18, 889, '02.04.2017', 'false', 'Approved', 575.27, 'Solex', 'Standard', 'medium', 'medium', 431.45), (15626, 48, 466, '02.04.2017', 'false', 'Approved', 1762.96, 'WeareA2B', 'Standard', 'medium', 'medium', 950.52), (2277, 54, 2778, '02.04.2017', 'true', 'Approved', 1292.84, 'WeareA2B', 'Standard', 'medium', 'medium', 13.44), (19100, 17, 209, '02.04.2017', 'true', 'Approved', 1024.66, 'Solex', 'Standard', 'high', 'medium', 614.8), (2383, 56, 1237, '02.04.2017', 'false', 'Approved', 688.63, 'Norco Bicycles', 'Mountain', 'low', 'small', 612.88), (11875, 23, 859, '02.04.2017', 'true', 'Approved', 688.63, 'Norco Bicycles', 'Mountain', 'low', 'small', 612.88), (2420, 70, 1073, '02.04.2017', 'false', 'Approved', 495.72, 'Trek Bicycles', 'Standard', 'high', 'medium', 297.43), (11706, 72, 741, '02.04.2017', 'false', 'Approved', 360.4, 'Norco Bicycles', 'Standard', 'medium', 'medium', 270.3), (15657, 49, 2400, '02.04.2017', 'true', 'Approved', 533.51, 'Trek Bicycles', 'Road', 'medium', 'medium', 400.13), (11436, 9, 2723, '02.04.2017', 'false', 'Approved', 742.54, 'OHM Cycles', 'Road', 'medium', 'medium', 667.4), (2817, 35, 2457, '02.04.2017', 'false', 'Approved', 1403.5, 'Giant Bicycles', 'Standard', 'medium', 'medium', 954.82), (11381, 38, 255, '02.04.2017', 'true', 'Approved', 1577.53, 'Solex', 'Standard', 'medium', 'medium', 826.51), (2940, 0, 395, '02.04.2017', 'true', 'Approved', 533.51, 'Trek Bicycles', 'Road', 'medium', 'medium', 400.13), (15394, 61, 3286, '02.04.2017', 'false', 'Approved', 71.16, 'OHM Cycles', 'Standard', 'low', 'medium', 56.93), (3214, 41, 30, '02.04.2017', 'true', 'Approved', 416.98, 'Solex', 'Road', 'medium', 'medium', 312.74), (18797, 16, 3496, '02.04.2017', 'true', 'Approved', 1661.92, 'Norco Bicycles', 'Standard', 'high', 'small', 1479.11), (15171, 7, 1539, '02.04.2017', 'false', 'Approved', 980.37, 'Trek Bicycles', 'Road', 'low', 'medium', 234.43), (15809, 34, 1519, '02.04.2017', 'false', 'Approved', 1231.15, 'WeareA2B', 'Standard', 'medium', 'medium', 161.6), (3588, 89, 910, '02.04.2017', 'false', 'Approved', 1362.99, 'WeareA2B', 'Touring', 'medium', 'large', 57.74), (10754, 98, 2260, '02.04.2017', 'false', 'Approved', 795.34, 'OHM Cycles', 'Standard', 'medium', 'medium', 101.58), (13012, 90, 1587, '02.04.2017', 'true', 'Approved', 363.01, 'Norco Bicycles', 'Standard', 'low', 'medium', 290.41), (4069, 38, 1408, '02.04.2017', 'true', 'Approved', 2091.47, 'Trek Bicycles', 'Standard', 'medium', 'large', 388.92), (1161, 42, 2883, '02.04.2017', 'true', 'Approved', 1810.0, 'OHM Cycles', 'Road', 'medium', 'small', 1610.9), (16143, 41, 2835, '02.04.2017', 'true', 'Approved', 416.98, 'Solex', 'Road', 'medium', 'medium', 312.74), (526, 20, 827, '02.04.2017', 'true', 'Approved', 1775.81, 'Trek Bicycles', 'Standard', 'medium', 'small', 1580.47), (4416, 64, 2114, '02.04.2017', 'true', 'Approved', 1977.36, 'Giant Bicycles', 'Standard', 'high', 'small', 1759.85), (4452, 88, 1443, '02.04.2017', 'false', 'Approved', 1198.46, 'Norco Bicycles', 'Standard', 'medium', 'medium', 381.1), (19853, 7, 3072, '02.04.2017', 'false', 'Approved', 980.37, 'Trek Bicycles', 'Road', 'low', 'medium', 234.43), (17737, 10, 3013, '02.04.2017', 'false', 'Approved', 1945.43, 'Solex', 'Standard', 'medium', 'medium', 333.18), (10012, 23, 485, '02.04.2017', 'true', 'Approved', 1198.46, 'Norco Bicycles', 'Standard', 'medium', 'medium', 381.1), (9758, 16, 701, '02.04.2017', 'false', 'Approved', 1661.92, 'Norco Bicycles', 'Standard', 'high', 'small', 1479.11), (17704, 12, 1631, '02.04.2017', 'false', 'Approved', 1231.15, 'WeareA2B', 'Standard', 'medium', 'medium', 161.6), (4994, 0, 1416, '02.04.2017', 'false', 'Approved', 533.51, 'Trek Bicycles', 'Road', 'medium', 'medium', 400.13), (5043, 93, 1599, '02.04.2017', 'true', 'Approved', 1065.03, 'WeareA2B', 'Standard', 'medium', 'medium', 230.09), (16248, 43, 285, '02.04.2017', 'false', 'Approved', 1151.96, 'Solex', 'Standard', 'medium', 'medium', 649.49), (9602, 22, 449, '02.04.2017', 'false', 'Approved', 575.27, 'Solex', 'Standard', 'medium', 'medium', 431.45), (17453, 14, 1053, '02.04.2017', 'true', 'Approved', 1386.84, 'Trek Bicycles', 'Standard', 'medium', 'small', 1234.29), (8988, 28, 1084, '02.04.2017', 'true', 'Approved', 1216.14, 'Norco Bicycles', 'Standard', 'medium', 'small', 1082.36), (16620, 46, 1449, '02.04.2017', 'false', 'Approved', 1793.43, 'OHM Cycles', 'Standard', 'low', 'medium', 248.82), (6004, 28, 11, '02.04.2017', 'false', 'Approved', 1216.14, 'Norco Bicycles', 'Standard', 'medium', 'small', 1082.36), (6178, 74, 2837, '02.04.2017', 'false', 'Approved', 1228.07, 'WeareA2B', 'Standard', 'medium', 'medium', 400.91), (7361, 92, 3142, '03.04.2017', 'true', 'Approved', 1415.01, 'WeareA2B', 'Standard', 'medium', 'small', 1259.36), (17, 79, 2426, '03.04.2017', 'false', 'Approved', 1555.58, 'Norco Bicycles', 'Standard', 'medium', 'medium', 818.01), (17082, 13, 3181, '03.04.2017', 'true', 'Approved', 1577.53, 'Solex', 'Standard', 'medium', 'medium', 826.51), (13971, 38, 2594, '03.04.2017', 'true', 'Approved', 1577.53, 'Solex', 'Standard', 'medium', 'medium', 826.51), (17014, 6, 1400, '03.04.2017', 'true', 'Approved', 227.88, 'OHM Cycles', 'Standard', 'high', 'medium', 136.73), (12902, 91, 3320, '03.04.2017', 'true', 'Approved', 642.31, 'WeareA2B', 'Standard', 'low', 'medium', 513.85), (17844, 49, 792, '03.04.2017', 'true', 'Approved', 1061.56, 'Solex', 'Standard', 'medium', 'large', 733.58), (1707, 62, 1946, '03.04.2017', 'false', 'Approved', 478.16, 'Solex', 'Standard', 'medium', 'medium', 298.72), (7813, 67, 2505, '03.04.2017', 'true', 'Approved', 1071.23, 'Solex', 'Standard', 'medium', 'large', 380.74), (1342, 88, 226, '03.04.2017', 'true', 'Approved', 1198.46, 'Norco Bicycles', 'Standard', 'medium', 'medium', 381.1), (1695, 81, 1363, '03.04.2017', 'true', 'Approved', 586.45, 'Norco Bicycles', 'Standard', 'medium', 'small', 521.94), (8567, 7, 2063, '03.04.2017', 'true', 'Approved', 980.37, 'Trek Bicycles', 'Road', 'low', 'medium', 234.43), (9983, 23, 353, '03.04.2017', 'false', 'Approved', 688.63, 'Norco Bicycles', 'Mountain', 'low', 'small', 612.88), (9828, 42, 2783, '03.04.2017', 'true', 'Approved', 1810.0, 'OHM Cycles', 'Road', 'medium', 'small', 1610.9), (1686, 68, 322, '03.04.2017', 'true', 'Approved', 1636.9, 'OHM Cycles', 'Standard', 'medium', 'medium', 44.71), (8676, 79, 1092, '03.04.2017', 'true', 'Approved', 1555.58, 'Norco Bicycles', 'Standard', 'medium', 'medium', 818.01), (5896, 2, 2605, '03.04.2017', 'true', 'Approved', 590.26, 'Giant Bicycles', 'Road', 'low', 'small', 525.33), (7852, 92, 1091, '03.04.2017', 'false', 'Approved', 1415.01, 'WeareA2B', 'Standard', 'medium', 'small', 1259.36), (3483, 52, 145, '03.04.2017', 'false', 'Approved', 1280.28, 'OHM Cycles', 'Road', 'medium', 'medium', 829.51), (10963, 3, 1868, '03.04.2017', 'true', 'Approved', 2091.47, 'Trek Bicycles', 'Standard', 'medium', 'large', 388.92), (11277, 18, 2620, '03.04.2017', 'false', 'Approved', 575.27, 'Solex', 'Standard', 'medium', 'medium', 431.45), (13607, 0, 1310, '03.04.2017', 'false', 'Approved', 533.51, 'Trek Bicycles', 'Road', 'medium', 'medium', 400.13), (18503, 4, 1088, '03.04.2017', 'true', 'Approved', 1483.2, 'Solex', 'Standard', 'medium', 'medium', 99.59), (12419, 69, 50, '03.04.2017', 'true', 'Approved', 792.9, 'Giant Bicycles', 'Road', 'medium', 'medium', 594.68), (16915, 75, 1849, '03.04.2017', 'true', 'Approved', 1873.97, 'Giant Bicycles', 'Touring', 'medium', 'large', 863.95), (8624, 48, 343, '03.04.2017', 'true', 'Approved', 1762.96, 'WeareA2B', 'Standard', 'medium', 'medium', 950.52), (18947, 65, 1020, '03.04.2017', 'false', 'Approved', 1807.45, 'WeareA2B', 'Standard', 'medium', 'medium', 778.69), (12441, 95, 4, '03.04.2017', 'false', 'Approved', 569.56, 'Giant Bicycles', 'Standard', 'medium', 'large', 528.43), (1242, 54, 457, '03.04.2017', 'true', 'Approved', 1807.45, 'WeareA2B', 'Standard', 'medium', 'medium', 778.69), (18017, 42, 3064, '03.04.2017', 'true', 'Approved', 1810.0, 'OHM Cycles', 'Road', 'medium', 'small', 1610.9), (11791, 12, 3148, '03.04.2017', 'false', 'Approved', 1765.3, 'Giant Bicycles', 'Standard', 'medium', 'large', 709.48), (19141, 98, 1051, '03.04.2017', 'true', 'Approved', 795.34, 'OHM Cycles', 'Standard', 'medium', 'medium', 101.58), (2001, 19, 1677, '03.04.2017', 'false', 'Approved', 12.01, 'OHM Cycles', 'Road', 'high', 'large', 7.21), (16074, 1, 2851, '03.04.2017', 'false', 'Approved', 1403.5, 'Giant Bicycles', 'Standard', 'medium', 'medium', 954.82), (12547, 42, 805, '03.04.2017', 'true', 'Approved', 1810.0, 'OHM Cycles', 'Road', 'medium', 'small', 1610.9), (17139, 90, 1196, '03.04.2017', 'true', 'Approved', 363.01, 'Norco Bicycles', 'Standard', 'low', 'medium', 290.41), (4073, 34, 2070, '03.04.2017', 'true', 'Approved', 774.53, 'Norco Bicycles', 'Road', 'high', 'large', 464.72), (898, 0, 1710, '03.04.2017', 'true', 'Approved', 543.39, 'Norco Bicycles', 'Road', 'medium', 'medium', 407.54), (15572, 32, 1078, '03.04.2017', 'true', 'Approved', 642.7, 'Giant Bicycles', 'Standard', 'medium', 'medium', 211.37), (4137, 4, 3379, '03.04.2017', 'false', 'Approved', 1129.13, 'Giant Bicycles', 'Standard', 'high', 'medium', 677.48), (10308, 24, 1888, '03.04.2017', 'false', 'Approved', 1777.8, 'Solex', 'Road', 'medium', 'large', 820.78), (5411, 50, 2966, '03.04.2017', 'false', 'Approved', 175.89, 'WeareA2B', 'Standard', 'medium', 'small', 131.92), (15441, 13, 1410, '04.04.2017', 'true', 'Approved', 1577.53, 'Solex', 'Standard', 'medium', 'medium', 826.51), (15266, 27, 2591, '04.04.2017', 'true', 'Approved', 1057.51, 'Trek Bicycles', 'Standard', 'low', 'medium', 154.4), (15191, 65, 1901, '04.04.2017', 'true', 'Approved', 1807.45, 'WeareA2B', 'Standard', 'medium', 'medium', 778.69), (13642, 77, 3290, '04.04.2017', 'false', 'Approved', 1769.64, 'WeareA2B', 'Standard', 'medium', 'medium', 108.76), (13760, 29, 2339, '04.04.2017', 'false', 'Approved', 543.39, 'Norco Bicycles', 'Road', 'medium', 'medium', 407.54), (13907, 94, 3207, '04.04.2017', 'false', 'Approved', 1635.3, 'Giant Bicycles', 'Standard', 'medium', 'large', 993.66), (14829, 0, 1821, '04.04.2017', 'false', 'Approved', 358.39, 'Trek Bicycles', 'Standard', 'high', 'medium', 215.03), (14039, 48, 370, '04.04.2017', 'true', 'Approved', 1762.96, 'WeareA2B', 'Standard', 'medium', 'medium', 950.52), (14074, 25, 3282, '04.04.2017', 'true', 'Approved', 2005.66, 'OHM Cycles', 'Standard', 'high', 'medium', 1203.4), (14257, 29, 1762, '04.04.2017', 'false', 'Approved', 543.39, 'Norco Bicycles', 'Road', 'medium', 'medium', 407.54), (19215, 40, 2078, '04.04.2017', 'true', 'Approved', 1458.17, 'OHM Cycles', 'Standard', 'high', 'medium', 874.9), (1799, 46, 920, '04.04.2017', 'true', 'Approved', 1289.85, 'Solex', 'Standard', 'low', 'medium', 74.51), (1827, 6, 1695, '04.04.2017', 'false', 'Approved', 748.17, 'Solex', 'Standard', 'high', 'medium', 448.9), (1854, 58, 1672, '04.04.2017', 'false', 'Approved', 912.52, 'OHM Cycles', 'Standard', 'medium', 'medium', 141.4), (1890, 4, 2038, '04.04.2017', 'true', 'Approved', 1129.13, 'Giant Bicycles', 'Standard', 'high', 'medium', 677.48), (1999, 58, 1478, '04.04.2017', 'true', 'Approved', 1280.28, 'OHM Cycles', 'Road', 'medium', 'medium', 829.51), (2099, 28, 2891, '04.04.2017', 'true', 'Approved', 1703.52, 'Solex', 'Road', 'medium', 'small', 1516.13), (228, 13, 821, '04.04.2017', 'true', 'Approved', 1163.89, 'Solex', 'Standard', 'medium', 'medium', 589.27), (2677, 18, 3225, '04.04.2017', 'true', 'Approved', 575.27, 'Solex', 'Standard', 'medium', 'medium', 431.45), (2694, 95, 1703, '04.04.2017', 'false', 'Approved', 569.56, 'Giant Bicycles', 'Standard', 'medium', 'large', 528.43), (2988, 42, 2656, '04.04.2017', 'true', 'Approved', 1810.0, 'OHM Cycles', 'Road', 'medium', 'small', 1610.9), (18837, 12, 1330, '04.04.2017', 'false', 'Approved', 1231.15, 'WeareA2B', 'Standard', 'medium', 'medium', 161.6), (18771, 81, 1402, '04.04.2017', 'false', 'Approved', 586.45, 'Norco Bicycles', 'Standard', 'medium', 'small', 521.94), (3440, 67, 1767, '04.04.2017', 'true', 'Approved', 544.05, 'Norco Bicycles', 'Road', 'medium', 'medium', 376.84), (18090, 92, 1726, '04.04.2017', 'true', 'Approved', 1890.39, 'WeareA2B', 'Touring', 'medium', 'large', 260.14), (3972, 8, 1363, '04.04.2017', 'true', 'Approved', 1703.52, 'Solex', 'Road', 'medium', 'small', 1516.13), (4118, 67, 326, '04.04.2017', 'true', 'Approved', 544.05, 'Norco Bicycles', 'Road', 'medium', 'medium', 376.84), (4458, 93, 1672, '04.04.2017', 'true', 'Approved', 1065.03, 'WeareA2B', 'Standard', 'medium', 'medium', 230.09), (4640, 21, 453, '04.04.2017', 'false', 'Approved', 1466.68, 'WeareA2B', 'Touring', 'medium', 'medium', 363.25), (4674, 22, 3138, '04.04.2017', 'false', 'Approved', 60.34, 'WeareA2B', 'Standard', 'medium', 'medium', 45.26), (4914, 54, 1022, '04.04.2017', 'true', 'Approved', 1292.84, 'WeareA2B', 'Standard', 'medium', 'medium', 13.44), (6262, 26, 3399, '04.04.2017', 'false', 'Approved', 1992.93, 'WeareA2B', 'Standard', 'medium', 'medium', 762.63), (6270, 45, 84, '04.04.2017', 'false', 'Approved', 441.49, 'Solex', 'Standard', 'medium', 'medium', 84.99), (6725, 0, 1115, '04.04.2017', 'false', 'Approved', 358.39, 'Trek Bicycles', 'Standard', 'high', 'medium', 215.03), (6876, 9, 427, '04.04.2017', 'false', 'Approved', 742.54, 'OHM Cycles', 'Road', 'medium', 'medium', 667.4), (17142, 51, 2230, '04.04.2017', 'true', 'Approved', 2005.66, 'OHM Cycles', 'Standard', 'high', 'medium', 1203.4), (7226, 82, 3453, '04.04.2017', 'false', 'Approved', 1148.64, 'Norco Bicycles', 'Standard', 'high', 'medium', 689.18), (7251, 46, 832, '04.04.2017', 'true', 'Approved', 1289.85, 'Solex', 'Standard', 'low', 'medium', 74.51), (7444, 72, 1012, '04.04.2017', 'false', 'Approved', 912.52, 'OHM Cycles', 'Standard', 'medium', 'medium', 141.4), (8057, 25, 3289, '04.04.2017', 'true', 'Approved', 1538.99, 'Giant Bicycles', 'Road', 'medium', 'medium', 829.65), (8075, 29, 2704, '04.04.2017', 'false', 'Approved', 543.39, 'Norco Bicycles', 'Road', 'medium', 'medium', 407.54), (8699, 66, 807, '04.04.2017', 'true', 'Approved', 590.26, 'Giant Bicycles', 'Road', 'low', 'small', 525.33), (8860, 61, 610, '04.04.2017', 'true', 'Approved', 71.16, 'OHM Cycles', 'Standard', 'low', 'medium', 56.93), (9297, 46, 2048, '04.04.2017', 'false', 'Approved', 1793.43, 'OHM Cycles', 'Standard', 'low', 'medium', 248.82), (16379, 84, 2165, '04.04.2017', 'false', 'Approved', 290.62, 'Trek Bicycles', 'Road', 'medium', 'medium', 215.14), (9677, 89, 833, '04.04.2017', 'true', 'Approved', 1812.75, 'Giant Bicycles', 'Standard', 'medium', 'large', 582.48), (9801, 89, 1195, '04.04.2017', 'false', 'Approved', 1362.99, 'WeareA2B', 'Touring', 'medium', 'large', 57.74), (10242, 39, 2993, '04.04.2017', 'false', 'Approved', 1812.75, 'Giant Bicycles', 'Standard', 'medium', 'large', 582.48), (89, 0, 2682, '04.04.2017', 'true', 'Approved', 12.01, 'OHM Cycles', 'Road', 'high', 'large', 7.21), (16032, 5, 1570, '04.04.2017', 'true', 'Approved', 574.64, 'Trek Bicycles', 'Mountain', 'low', 'medium', 459.71), (10919, 51, 1119, '04.04.2017', 'true', 'Approved', 2005.66, 'OHM Cycles', 'Standard', 'high', 'medium', 1203.4), (1197, 0, 2234, '04.04.2017', 'false', 'Approved', 756.31, 'NaN', 'NaN', 'NaN', 'NaN', nan), (15758, 80, 2760, '04.04.2017', 'NaN', 'Approved', 1073.07, 'OHM Cycles', 'Touring', 'low', 'medium', 933.84), (11299, 5, 2380, '04.04.2017', 'true', 'Approved', 574.64, 'Trek Bicycles', 'Mountain', 'low', 'medium', 459.71), (1235, 18, 2478, '04.04.2017', 'true', 'Approved', 575.27, 'Solex', 'Standard', 'medium', 'medium', 431.45), (11808, 78, 944, '04.04.2017', 'false', 'Approved', 1765.3, 'Giant Bicycles', 'Standard', 'medium', 'large', 709.48), (1254, 10, 1830, '04.04.2017', 'false', 'Approved', 1945.43, 'Solex', 'Standard', 'medium', 'medium', 333.18), (12229, 5, 1825, '04.04.2017', 'false', 'Approved', 574.64, 'Trek Bicycles', 'Mountain', 'low', 'medium', 459.71), (19418, 46, 182, '04.04.2017', 'true', 'Approved', 1289.85, 'Solex', 'Standard', 'low', 'medium', 74.51), (15444, 98, 809, '04.04.2017', 'true', 'Approved', 358.39, 'Trek Bicycles', 'Standard', 'high', 'medium', 215.03), (19988, 0, 13, '05.04.2017', 'true', 'Approved', 544.05, 'Norco Bicycles', 'Road', 'medium', 'medium', 376.84), (6525, 79, 1853, '05.04.2017', 'false', 'Approved', 1555.58, 'Norco Bicycles', 'Standard', 'medium', 'medium', 818.01), (8871, 37, 682, '05.04.2017', 'true', 'Approved', 1793.43, 'OHM Cycles', 'Standard', 'low', 'medium', 248.82), (6475, 6, 3370, '05.04.2017', 'NaN', 'Approved', 748.17, 'Solex', 'Standard', 'high', 'medium', 448.9), (5991, 77, 2874, '05.04.2017', 'true', 'Approved', 1240.31, 'Norco Bicycles', 'Road', 'medium', 'large', 795.1), (5928, 88, 73, '05.04.2017', 'true', 'Approved', 1198.46, 'Norco Bicycles', 'Standard', 'medium', 'medium', 381.1), (5802, 87, 305, '05.04.2017', 'NaN', 'Approved', 1179.0, 'Giant Bicycles', 'Standard', 'high', 'medium', 707.4), (16498, 68, 3450, '05.04.2017', 'false', 'Approved', 1636.9, 'OHM Cycles', 'Standard', 'medium', 'medium', 44.71), (17456, 48, 1670, '05.04.2017', 'true', 'Approved', 1762.96, 'WeareA2B', 'Standard', 'medium', 'medium', 950.52), (9383, 0, 3145, '05.04.2017', 'false', 'Approved', 478.16, 'Solex', 'Standard', 'medium', 'medium', 298.72), (9395, 98, 762, '05.04.2017', 'true', 'Approved', 358.39, 'Trek Bicycles', 'Standard', 'high', 'medium', 215.03), (5537, 19, 3231, '05.04.2017', 'true', 'Approved', 12.01, 'OHM Cycles', 'Road', 'high', 'large', 7.21), (1073, 80, 794, '05.04.2017', 'true', 'Approved', 1073.07, 'OHM Cycles', 'Touring', 'low', 'medium', 933.84), (9636, 44, 815, '05.04.2017', 'true', 'Approved', 1769.64, 'WeareA2B', 'Standard', 'medium', 'medium', 108.76), (16355, 95, 2621, '05.04.2017', 'false', 'Approved', 1073.07, 'OHM Cycles', 'Touring', 'low', 'medium', 933.84), (5058, 70, 376, '05.04.2017', 'false', 'Approved', 495.72, 'Trek Bicycles', 'Standard', 'high', 'medium', 297.43), (4960, 21, 1834, '05.04.2017', 'false', 'Approved', 1466.68, 'WeareA2B', 'Touring', 'medium', 'medium', 363.25), (15113, 46, 3381, '05.04.2017', 'true', 'Approved', 1289.85, 'Solex', 'Standard', 'low', 'medium', 74.51), (1074, 33, 931, '05.04.2017', 'false', 'Approved', 1311.44, 'Giant Bicycles', 'Standard', 'medium', 'small', 1167.18), (563, 97, 3071, '05.04.2017', 'false', 'Approved', 202.62, 'Solex', 'Standard', 'medium', 'large', 151.96), (17714, 80, 3377, '05.04.2017', 'true', 'Approved', 1073.07, 'OHM Cycles', 'Touring', 'low', 'medium', 933.84), (10169, 80, 949, '05.04.2017', 'true', 'Approved', 1073.07, 'OHM Cycles', 'Touring', 'low', 'medium', 933.84), (4340, 36, 807, '05.04.2017', 'false', 'Approved', 945.04, 'Solex', 'Standard', 'low', 'medium', 507.58), (13596, 80, 2278, '05.04.2017', 'false', 'Approved', 1073.07, 'OHM Cycles', 'Touring', 'low', 'medium', 933.84), (16087, 44, 594, '05.04.2017', 'false', 'Approved', 1769.64, 'WeareA2B', 'Standard', 'medium', 'medium', 108.76), (13518, 46, 1224, '05.04.2017', 'false', 'Approved', 1289.85, 'Solex', 'Standard', 'low', 'medium', 74.51), (10437, 0, 3122, '05.04.2017', 'NaN', 'Approved', 71.49, 'Solex', 'Standard', 'medium', 'medium', 53.62), (17945, 83, 1789, '05.04.2017', 'true', 'Approved', 2083.94, 'Solex', 'Touring', 'medium', 'large', 675.03), (3819, 60, 735, '05.04.2017', 'true', 'Approved', 1977.36, 'Giant Bicycles', 'Standard', 'high', 'small', 1759.85), (3691, 75, 1138, '05.04.2017', 'true', 'Approved', 1873.97, 'Giant Bicycles', 'Touring', 'medium', 'large', 863.95), (18160, 60, 1773, '05.04.2017', 'true', 'Approved', 1977.36, 'Giant Bicycles', 'Standard', 'high', 'small', 1759.85), (10832, 30, 2044, '05.04.2017', 'false', 'Approved', 748.17, 'Solex', 'Standard', 'high', 'medium', 448.9), (10839, 25, 3350, '05.04.2017', 'true', 'Approved', 1538.99, 'Giant Bicycles', 'Road', 'medium', 'medium', 829.65), (15549, 36, 2113, '05.04.2017', 'false', 'Approved', 945.04, 'Solex', 'Standard', 'low', 'medium', 507.58), (18552, 83, 1609, '05.04.2017', 'true', 'Approved', 2083.94, 'Solex', 'Touring', 'medium', 'large', 675.03), (18560, 91, 196, '05.04.2017', 'false', 'Approved', 642.31, 'WeareA2B', 'Standard', 'low', 'medium', 513.85), (18750, 29, 1578, '05.04.2017', 'true', 'Approved', 1065.03, 'WeareA2B', 'Standard', 'medium', 'medium', 230.09), (12677, 10, 2811, '05.04.2017', 'true', 'Approved', 1466.68, 'WeareA2B', 'Touring', 'medium', 'medium', 363.25), (3247, 89, 1417, '05.04.2017', 'true', 'Approved', 1812.75, 'Giant Bicycles', 'Standard', 'medium', 'large', 582.48), (12820, 0, 2887, '05.04.2017', 'true', 'Approved', 533.51, 'Trek Bicycles', 'Road', 'medium', 'medium', 400.13), (3042, 24, 3102, '05.04.2017', 'true', 'Approved', 1777.8, 'Solex', 'Road', 'medium', 'large', 820.78), (290, 55, 624, '05.04.2017', 'true', 'Approved', 1894.19, 'Trek Bicycles', 'Road', 'medium', 'large', 598.76), (11557, 85, 631, '05.04.2017', 'false', 'Approved', 752.64, 'WeareA2B', 'Standard', 'medium', 'medium', 205.36), (12954, 77, 3, '05.04.2017', 'false', 'Approved', 1240.31, 'Norco Bicycles', 'Road', 'medium', 'large', 795.1), (2529, 65, 2308, '05.04.2017', 'true', 'Approved', 1807.45, 'WeareA2B', 'Standard', 'medium', 'medium', 778.69), (11727, 69, 1215, '05.04.2017', 'true', 'Approved', 792.9, 'Giant Bicycles', 'Road', 'medium', 'medium', 594.68), (11816, 36, 1552, '05.04.2017', 'false', 'Approved', 945.04, 'Solex', 'Standard', 'low', 'medium', 507.58), (13365, 96, 2138, '05.04.2017', 'false', 'Approved', 1635.3, 'Giant Bicycles', 'Standard', 'medium', 'large', 993.66), (19339, 38, 2787, '05.04.2017', 'false', 'Approved', 1577.53, 'Solex', 'Standard', 'medium', 'medium', 826.51), (7390, 55, 128, '05.04.2017', 'true', 'Approved', 1894.19, 'Trek Bicycles', 'Road', 'medium', 'large', 598.76), (7320, 6, 2686, '05.04.2017', 'false', 'Approved', 227.88, 'OHM Cycles', 'Standard', 'high', 'medium', 136.73), (7258, 11, 3323, '05.04.2017', 'true', 'Approved', 1775.81, 'Trek Bicycles', 'Standard', 'medium', 'small', 1580.47), (7211, 82, 2096, '05.04.2017', 'false', 'Approved', 1538.99, 'Giant Bicycles', 'Road', 'medium', 'medium', 829.65), (16888, 27, 3415, '05.04.2017', 'false', 'Approved', 1057.51, 'Trek Bicycles', 'Standard', 'low', 'medium', 154.4), (15316, 0, 2955, '05.04.2017', 'false', 'Approved', 363.01, 'Norco Bicycles', 'Standard', 'low', 'medium', 290.41), (12330, 69, 464, '05.04.2017', 'true', 'Approved', 792.9, 'Giant Bicycles', 'Road', 'medium', 'medium', 594.68), (6983, 46, 2983, '05.04.2017', 'false', 'Approved', 1289.85, 'Solex', 'Standard', 'low', 'medium', 74.51), (17165, 1, 3152, '05.04.2017', 'false', 'Approved', 1873.97, 'Giant Bicycles', 'Touring', 'medium', 'large', 863.95), (6918, 86, 2332, '05.04.2017', 'true', 'Approved', 774.53, 'Norco Bicycles', 'Road', 'high', 'large', 464.72), (6733, 78, 3489, '05.04.2017', 'false', 'Approved', 1765.3, 'Giant Bicycles', 'Standard', 'medium', 'large', 709.48), (16861, 61, 1462, '05.04.2017', 'true', 'Approved', 71.16, 'OHM Cycles', 'Standard', 'low', 'medium', 56.93), (6723, 45, 794, '05.04.2017', 'true', 'Approved', 441.49, 'Solex', 'Standard', 'medium', 'medium', 84.99), (17380, 73, 2434, '05.04.2017', 'true', 'Approved', 1945.43, 'Solex', 'Standard', 'medium', 'medium', 333.18), (6646, 5, 2699, '05.04.2017', 'false', 'Approved', 574.64, 'Trek Bicycles', 'Mountain', 'low', 'medium', 459.71), (8640, 24, 111, '05.04.2017', 'false', 'Approved', 1777.8, 'Solex', 'Road', 'medium', 'large', 820.78), (17266, 15, 3333, '06.04.2017', 'true', 'Approved', 958.74, 'Norco Bicycles', 'Standard', 'low', 'medium', 748.9), (19, 54, 2268, '06.04.2017', 'true', 'Approved', 1292.84, 'WeareA2B', 'Standard', 'medium', 'medium', 13.44), (8514, 14, 1417, '06.04.2017', 'false', 'Approved', 1842.92, 'Solex', 'Standard', 'high', 'large', 1105.75), (3765, 38, 1, '06.04.2017', 'true', 'Approved', 1577.53, 'Solex', 'Standard', 'medium', 'medium', 826.51), (1187, 68, 1951, '06.04.2017', 'false', 'Approved', 1636.9, 'OHM Cycles', 'Standard', 'medium', 'medium', 44.71), (11904, 34, 3116, '06.04.2017', 'true', 'Approved', 774.53, 'Norco Bicycles', 'Road', 'high', 'large', 464.72), (2251, 35, 877, '06.04.2017', 'false', 'Approved', 1057.51, 'Trek Bicycles', 'Standard', 'low', 'medium', 154.4), (154, 3, 3383, '06.04.2017', 'true', 'Approved', 2091.47, 'Trek Bicycles', 'Standard', 'medium', 'large', 388.92), (6590, 42, 707, '06.04.2017', 'true', 'Approved', 1810.0, 'OHM Cycles', 'Road', 'medium', 'small', 1610.9), (146, 41, 3261, '06.04.2017', 'true', 'Approved', 416.98, 'Solex', 'Road', 'medium', 'medium', 312.74), (6588, 0, 451, '06.04.2017', 'false', 'Approved', 60.34, 'WeareA2B', 'Standard', 'medium', 'medium', 45.26), (2070, 82, 3010, '06.04.2017', 'true', 'Approved', 1148.64, 'Norco Bicycles', 'Standard', 'high', 'medium', 689.18), (12418, 38, 1808, '06.04.2017', 'false', 'Approved', 2091.47, 'Trek Bicycles', 'Standard', 'medium', 'large', 388.92), (18298, 24, 2489, '06.04.2017', 'true', 'Approved', 1777.8, 'Solex', 'Road', 'medium', 'large', 820.78), (12070, 58, 3123, '06.04.2017', 'true', 'Approved', 1280.28, 'OHM Cycles', 'Road', 'medium', 'medium', 829.51), (12175, 1, 2309, '06.04.2017', 'true', 'Approved', 1403.5, 'Giant Bicycles', 'Standard', 'medium', 'medium', 954.82), (11145, 19, 80, '06.04.2017', 'true', 'Approved', 12.01, 'OHM Cycles', 'Road', 'high', 'large', 7.21), (16982, 57, 303, '06.04.2017', 'false', 'Approved', 1890.39, 'WeareA2B', 'Touring', 'medium', 'large', 260.14), (19424, 45, 1367, '06.04.2017', 'false', 'Approved', 441.49, 'Solex', 'Standard', 'medium', 'medium', 84.99), (9136, 41, 598, '06.04.2017', 'false', 'Approved', 958.74, 'Norco Bicycles', 'Standard', 'low', 'medium', 748.9), (1593, 44, 534, '06.04.2017', 'false', 'Approved', 1769.64, 'WeareA2B', 'Standard', 'medium', 'medium', 108.76), (2049, 54, 468, '06.04.2017', 'true', 'Approved', 1807.45, 'WeareA2B', 'Standard', 'medium', 'medium', 778.69), (9354, 98, 2187, '06.04.2017', 'true', 'Approved', 358.39, 'Trek Bicycles', 'Standard', 'high', 'medium', 215.03), (17150, 0, 1091, '06.04.2017', 'true', 'Approved', 156.56, 'NaN', 'NaN', 'NaN', 'NaN', nan), (7526, 8, 285, '06.04.2017', 'true', 'Approved', 1703.52, 'Solex', 'Road', 'medium', 'small', 1516.13), (7703, 100, 3009, '06.04.2017', 'true', 'Approved', 1386.84, 'Trek Bicycles', 'Standard', 'medium', 'small', 1234.29), (19575, 35, 1766, '06.04.2017', 'true', 'Approved', 1057.51, 'Trek Bicycles', 'Standard', 'low', 'medium', 154.4), (14522, 7, 2899, '06.04.2017', 'false', 'Approved', 1311.44, 'Giant Bicycles', 'Standard', 'medium', 'small', 1167.18), (7418, 20, 2604, '06.04.2017', 'false', 'Approved', 1775.81, 'Trek Bicycles', 'Standard', 'medium', 'small', 1580.47), (767, 31, 2554, '06.04.2017', 'true', 'Approved', 752.64, 'WeareA2B', 'Standard', 'medium', 'medium', 205.36), (19338, 28, 605, '06.04.2017', 'true', 'Approved', 1216.14, 'Norco Bicycles', 'Standard', 'medium', 'small', 1082.36), (5417, 61, 607, '06.04.2017', 'true', 'Approved', 71.16, 'OHM Cycles', 'Standard', 'low', 'medium', 56.93), (2913, 5, 1396, '06.04.2017', 'true', 'Approved', 574.64, 'Trek Bicycles', 'Mountain', 'low', 'medium', 459.71), (14189, 74, 1627, '06.04.2017', 'true', 'Approved', 1228.07, 'WeareA2B', 'Standard', 'medium', 'medium', 400.91), (7768, 9, 3379, '06.04.2017', 'true', 'Approved', 742.54, 'OHM Cycles', 'Road', 'medium', 'medium', 667.4), (11484, 55, 3406, '06.04.2017', 'false', 'Approved', 1894.19, 'Trek Bicycles', 'Road', 'medium', 'large', 598.76), (5008, 66, 2267, '06.04.2017', 'true', 'Approved', 590.26, 'Giant Bicycles', 'Road', 'low', 'small', 525.33), (15728, 61, 592, '06.04.2017', 'true', 'Approved', 71.16, 'OHM Cycles', 'Standard', 'low', 'medium', 56.93), (19899, 57, 325, '06.04.2017', 'false', 'Approved', 1890.39, 'WeareA2B', 'Touring', 'medium', 'large', 260.14), (4873, 74, 877, '06.04.2017', 'false', 'Approved', 1228.07, 'WeareA2B', 'Standard', 'medium', 'medium', 400.91), (16940, 36, 1318, '06.04.2017', 'true', 'Approved', 945.04, 'Solex', 'Standard', 'low', 'medium', 507.58), (16246, 84, 2786, '06.04.2017', 'true', 'Approved', 290.62, 'Trek Bicycles', 'Road', 'medium', 'medium', 215.14), (4844, 60, 1119, '06.04.2017', 'true', 'Approved', 1977.36, 'Giant Bicycles', 'Standard', 'high', 'small', 1759.85), (16162, 93, 1887, '06.04.2017', 'false', 'Approved', 1065.03, 'WeareA2B', 'Standard', 'medium', 'medium', 230.09), (11559, 32, 2323, '06.04.2017', 'true', 'Approved', 1179.0, 'Giant Bicycles', 'Standard', 'high', 'medium', 707.4), (7085, 38, 1431, '06.04.2017', 'false', 'Approved', 1577.53, 'Solex', 'Standard', 'medium', 'medium', 826.51), (10132, 7, 3174, '06.04.2017', 'true', 'Approved', 980.37, 'Trek Bicycles', 'Road', 'low', 'medium', 234.43), (2564, 18, 2495, '06.04.2017', 'false', 'Approved', 575.27, 'Solex', 'Standard', 'medium', 'medium', 431.45), (6993, 9, 1026, '06.04.2017', 'true', 'Approved', 742.54, 'OHM Cycles', 'Road', 'medium', 'medium', 667.4), (19546, 74, 356, '06.04.2017', 'false', 'Approved', 1762.96, 'WeareA2B', 'Standard', 'medium', 'medium', 950.52), (4316, 23, 2524, '06.04.2017', 'false', 'Approved', 688.63, 'Norco Bicycles', 'Mountain', 'low', 'small', 612.88), (11730, 46, 1135, '06.04.2017', 'false', 'Approved', 1289.85, 'Solex', 'Standard', 'low', 'medium', 74.51), (2508, 70, 2110, '06.04.2017', 'true', 'Approved', 1036.59, 'Norco Bicycles', 'Road', 'medium', 'medium', 206.35), (13395, 82, 3179, '06.04.2017', 'true', 'Approved', 1148.64, 'Norco Bicycles', 'Standard', 'high', 'medium', 689.18), (16991, 40, 2281, '06.04.2017', 'true', 'Approved', 1894.19, 'Trek Bicycles', 'Road', 'medium', 'large', 598.76), (3822, 53, 2622, '06.04.2017', 'false', 'Approved', 795.34, 'OHM Cycles', 'Standard', 'medium', 'medium', 101.58), (19968, 0, 2751, '06.04.2017', 'false', 'Approved', 60.34, 'WeareA2B', 'Standard', 'medium', 'medium', 45.26), (12613, 0, 2284, '06.04.2017', 'true', 'Approved', 569.56, 'Giant Bicycles', 'Standard', 'medium', 'large', 528.43), (12472, 9, 2088, '07.04.2017', 'false', 'Approved', 742.54, 'OHM Cycles', 'Road', 'medium', 'medium', 667.4), (304, 12, 2745, '07.04.2017', 'false', 'Approved', 1231.15, 'WeareA2B', 'Standard', 'medium', 'medium', 161.6), (669, 68, 3420, '07.04.2017', 'false', 'Approved', 1636.9, 'OHM Cycles', 'Standard', 'medium', 'medium', 44.71), (1049, 97, 1107, '07.04.2017', 'true', 'Approved', 742.54, 'OHM Cycles', 'Road', 'medium', 'medium', 667.4), (1125, 41, 1273, '07.04.2017', 'true', 'Approved', 416.98, 'Solex', 'Road', 'medium', 'medium', 312.74), (1503, 34, 2167, '07.04.2017', 'false', 'Approved', 774.53, 'Norco Bicycles', 'Road', 'high', 'large', 464.72), (1825, 26, 1001, '07.04.2017', 'true', 'Approved', 1992.93, 'WeareA2B', 'Standard', 'medium', 'medium', 762.63), (2222, 28, 2836, '07.04.2017', 'false', 'Approved', 1216.14, 'Norco Bicycles', 'Standard', 'medium', 'small', 1082.36), (2410, 84, 1650, '07.04.2017', 'true', 'Approved', 792.9, 'Giant Bicycles', 'Road', 'medium', 'medium', 594.68), (2460, 56, 1640, '07.04.2017', 'true', 'Approved', 688.63, 'Norco Bicycles', 'Mountain', 'low', 'small', 612.88), (2638, 83, 34, '07.04.2017', 'false', 'Approved', 2083.94, 'Solex', 'Touring', 'medium', 'large', 675.03), (2810, 69, 3489, '07.04.2017', 'true', 'Approved', 792.9, 'Giant Bicycles', 'Road', 'medium', 'medium', 594.68), (3779, 68, 2580, '07.04.2017', 'false', 'Approved', 1636.9, 'OHM Cycles', 'Standard', 'medium', 'medium', 44.71), (4386, 39, 519, '07.04.2017', 'false', 'Approved', 1812.75, 'Giant Bicycles', 'Standard', 'medium', 'large', 582.48), (4477, 58, 873, '07.04.2017', 'true', 'Approved', 912.52, 'OHM Cycles', 'Standard', 'medium', 'medium', 141.4), (4828, 87, 2294, '07.04.2017', 'false', 'Approved', 1179.0, 'Giant Bicycles', 'Standard', 'high', 'medium', 707.4), (5433, 46, 3358, '07.04.2017', 'true', 'Approved', 1289.85, 'Solex', 'Standard', 'low', 'medium', 74.51), (5643, 75, 2290, '07.04.2017', 'NaN', 'Approved', 1873.97, 'Giant Bicycles', 'Touring', 'medium', 'large', 863.95), (6843, 15, 1283, '07.04.2017', 'false', 'Approved', 958.74, 'Norco Bicycles', 'Standard', 'low', 'medium', 748.9), (7397, 2, 2595, '07.04.2017', 'true', 'Approved', 71.49, 'Solex', 'Standard', 'medium', 'medium', 53.62), (7915, 46, 3000, '07.04.2017', 'false', 'Approved', 1289.85, 'Solex', 'Standard', 'low', 'medium', 74.51), (8228, 41, 1647, '07.04.2017', 'true', 'Approved', 958.74, 'Norco Bicycles', 'Standard', 'low', 'medium', 748.9), (9026, 72, 2630, '07.04.2017', 'false', 'Approved', 360.4, 'Norco Bicycles', 'Standard', 'medium', 'medium', 270.3), (9449, 50, 350, '07.04.2017', 'false', 'Approved', 175.89, 'WeareA2B', 'Standard', 'medium', 'small', 131.92), (9526, 90, 1305, '07.04.2017', 'true', 'Approved', 945.04, 'Solex', 'Standard', 'low', 'medium', 507.58), (9606, 59, 2457, '07.04.2017', 'false', 'Approved', 1415.01, 'WeareA2B', 'Standard', 'medium', 'small', 1259.36), (9883, 63, 1453, '07.04.2017', 'true', 'Approved', 1992.93, 'WeareA2B', 'Standard', 'medium', 'medium', 762.63), (10390, 52, 1957, '07.04.2017', 'true', 'Approved', 1280.28, 'OHM Cycles', 'Road', 'medium', 'medium', 829.51), (10506, 97, 242, '07.04.2017', 'true', 'Approved', 202.62, 'Solex', 'Standard', 'medium', 'large', 151.96), (10702, 97, 2164, '07.04.2017', 'true', 'Approved', 202.62, 'Solex', 'Standard', 'medium', 'large', 151.96), (11209, 2, 3430, '07.04.2017', 'true', 'Approved', 71.49, 'Solex', 'Standard', 'medium', 'medium', 53.62), (11579, 3, 2213, '07.04.2017', 'true', 'Approved', 2091.47, 'Trek Bicycles', 'Standard', 'medium', 'large', 388.92), (11598, 18, 1432, '07.04.2017', 'false', 'Approved', 1148.64, 'Norco Bicycles', 'Standard', 'high', 'medium', 689.18), (12180, 5, 2722, '07.04.2017', 'false', 'Approved', 574.64, 'Trek Bicycles', 'Mountain', 'low', 'medium', 459.71), (12320, 63, 1033, '07.04.2017', 'NaN', 'Approved', 1483.2, 'Solex', 'Standard', 'medium', 'medium', 99.59), (12506, 93, 87, '07.04.2017', 'false', 'Approved', 1065.03, 'WeareA2B', 'Standard', 'medium', 'medium', 230.09), (13183, 14, 85, '07.04.2017', 'true', 'Approved', 1386.84, 'Trek Bicycles', 'Standard', 'medium', 'small', 1234.29), (13313, 35, 1138, '07.04.2017', 'false', 'Approved', 1057.51, 'Trek Bicycles', 'Standard', 'low', 'medium', 154.4), (13494, 15, 1531, '07.04.2017', 'false', 'Approved', 958.74, 'Norco Bicycles', 'Standard', 'low', 'medium', 748.9), (13747, 68, 416, '07.04.2017', 'true', 'Approved', 1636.9, 'OHM Cycles', 'Standard', 'medium', 'medium', 44.71), (14544, 84, 1511, '07.04.2017', 'false', 'Approved', 290.62, 'Trek Bicycles', 'Road', 'medium', 'medium', 215.14), (14632, 97, 2021, '07.04.2017', 'false', 'Approved', 742.54, 'OHM Cycles', 'Road', 'medium', 'medium', 667.4), (15442, 46, 3253, '07.04.2017', 'false', 'Approved', 1793.43, 'OHM Cycles', 'Standard', 'low', 'medium', 248.82), (15912, 23, 2152, '07.04.2017', 'false', 'Approved', 688.63, 'Norco Bicycles', 'Mountain', 'low', 'small', 612.88), (15981, 3, 2964, '07.04.2017', 'false', 'Approved', 2091.47, 'Trek Bicycles', 'Standard', 'medium', 'large', 388.92), (16394, 60, 3228, '07.04.2017', 'true', 'Approved', 1977.36, 'Giant Bicycles', 'Standard', 'high', 'small', 1759.85), (17143, 80, 2268, '07.04.2017', 'false', 'Approved', 1073.07, 'OHM Cycles', 'Touring', 'low', 'medium', 933.84), (17517, 46, 1652, '07.04.2017', 'true', 'Approved', 1793.43, 'OHM Cycles', 'Standard', 'low', 'medium', 248.82), (17652, 76, 1998, '07.04.2017', 'false', 'Approved', 1172.78, 'WeareA2B', 'Road', 'low', 'small', 1043.77), (17681, 62, 2985, '07.04.2017', 'false', 'Approved', 478.16, 'Solex', 'Standard', 'medium', 'medium', 298.72), (17834, 45, 713, '07.04.2017', 'false', 'Approved', 441.49, 'Solex', 'Standard', 'medium', 'medium', 84.99), (18086, 48, 2813, '07.04.2017', 'NaN', 'Approved', 1762.96, 'WeareA2B', 'Standard', 'medium', 'medium', 950.52), (18709, 56, 2028, '07.04.2017', 'true', 'Approved', 183.86, 'OHM Cycles', 'Standard', 'medium', 'medium', 137.9), (19210, 67, 2773, '07.04.2017', 'true', 'Approved', 544.05, 'Norco Bicycles', 'Road', 'medium', 'medium', 376.84), (19628, 22, 2497, '07.04.2017', 'true', 'Approved', 60.34, 'WeareA2B', 'Standard', 'medium', 'medium', 45.26), (17169, 0, 2384, '08.04.2017', 'true', 'Approved', 569.56, 'Giant Bicycles', 'Standard', 'medium', 'large', 528.43), (12646, 14, 1243, '08.04.2017', 'true', 'Approved', 1386.84, 'Trek Bicycles', 'Standard', 'medium', 'small', 1234.29), (6762, 45, 3362, '08.04.2017', 'true', 'Approved', 441.49, 'Solex', 'Standard', 'medium', 'medium', 84.99), (6652, 50, 2361, '08.04.2017', 'true', 'Approved', 642.7, 'Giant Bicycles', 'Standard', 'medium', 'medium', 211.37), (6623, 86, 3299, '08.04.2017', 'false', 'Approved', 235.63, 'OHM Cycles', 'Standard', 'medium', 'medium', 125.07), (10867, 55, 1891, '08.04.2017', 'true', 'Approved', 1894.19, 'Trek Bicycles', 'Road', 'medium', 'large', 598.76), (5702, 0, 2283, '08.04.2017', 'true', 'Approved', 533.51, 'Trek Bicycles', 'Road', 'medium', 'medium', 400.13), (19541, 90, 1084, '08.04.2017', 'false', 'Approved', 363.01, 'Norco Bicycles', 'Standard', 'low', 'medium', 290.41), (5195, 18, 1083, '08.04.2017', 'false', 'Approved', 575.27, 'Solex', 'Standard', 'medium', 'medium', 431.45), (16404, 27, 1698, '08.04.2017', 'true', 'Approved', 499.53, 'Trek Bicycles', 'Standard', 'medium', 'medium', 388.72), (15856, 37, 198, '08.04.2017', 'false', 'Approved', 1793.43, 'OHM Cycles', 'Standard', 'low', 'medium', 248.82), (23, 37, 2001, '08.04.2017', 'true', 'Approved', 1793.43, 'OHM Cycles', 'Standard', 'low', 'medium', 248.82), (4984, 0, 928, '08.04.2017', 'false', 'Approved', 12.01, 'OHM Cycles', 'Road', 'high', 'large', 7.21), (10748, 43, 1690, '08.04.2017', 'true', 'Approved', 1151.96, 'Solex', 'Standard', 'medium', 'medium', 649.49), (4656, 60, 1597, '08.04.2017', 'true', 'Approved', 1977.36, 'Giant Bicycles', 'Standard', 'high', 'small', 1759.85), (17741, 35, 2551, '08.04.2017', 'true', 'Approved', 1057.51, 'Trek Bicycles', 'Standard', 'low', 'medium', 154.4), (17762, 91, 2008, '08.04.2017', 'false', 'Approved', 100.35, 'Solex', 'Standard', 'medium', 'medium', 75.26), (8909, 37, 2009, '08.04.2017', 'true', 'Approved', 1793.43, 'OHM Cycles', 'Standard', 'low', 'medium', 248.82), (8895, 51, 2062, '08.04.2017', 'false', 'Approved', 2005.66, 'OHM Cycles', 'Standard', 'high', 'medium', 1203.4), (8888, 79, 622, '08.04.2017', 'false', 'Approved', 1555.58, 'Norco Bicycles', 'Standard', 'medium', 'medium', 818.01), (3717, 76, 723, '08.04.2017', 'true', 'Approved', 642.31, 'WeareA2B', 'Standard', 'low', 'medium', 513.85), (12501, 95, 343, '08.04.2017', 'true', 'Approved', 569.56, 'Giant Bicycles', 'Standard', 'medium', 'large', 528.43), (534, 14, 1517, '08.04.2017', 'false', 'Approved', 1386.84, 'Trek Bicycles', 'Standard', 'medium', 'small', 1234.29), (8795, 12, 2399, '08.04.2017', 'false', 'Approved', 1765.3, 'Giant Bicycles', 'Standard', 'medium', 'large', 709.48), (3611, 17, 1438, '08.04.2017', 'true', 'Approved', 1024.66, 'Solex', 'Standard', 'high', 'medium', 614.8), (3560, 0, 1449, '08.04.2017', 'true', 'Approved', 230.91, 'Giant Bicycles', 'Standard', 'medium', 'medium', 173.18), (18376, 48, 2782, '08.04.2017', 'false', 'Approved', 1762.96, 'WeareA2B', 'Standard', 'medium', 'medium', 950.52), (18470, 38, 3494, '08.04.2017', 'false', 'Approved', 2091.47, 'Trek Bicycles', 'Standard', 'medium', 'large', 388.92), (1275, 97, 27, '08.04.2017', 'false', 'Approved', 202.62, 'Solex', 'Standard', 'medium', 'large', 151.96), (3551, 86, 1656, '08.04.2017', 'true', 'Approved', 235.63, 'OHM Cycles', 'Standard', 'medium', 'medium', 125.07), (10631, 81, 2941, '08.04.2017', 'false', 'Approved', 586.45, 'Norco Bicycles', 'Standard', 'medium', 'small', 521.94), (12391, 60, 2885, '08.04.2017', 'true', 'Approved', 1977.36, 'Giant Bicycles', 'Standard', 'high', 'small', 1759.85), (16914, 73, 1609, '08.04.2017', 'true', 'Approved', 1945.43, 'Solex', 'Standard', 'medium', 'medium', 333.18), (8006, 80, 3205, '08.04.2017', 'true', 'Approved', 1073.07, 'OHM Cycles', 'Touring', 'low', 'medium', 933.84), (12037, 38, 1694, '08.04.2017', 'false', 'Approved', 1577.53, 'Solex', 'Standard', 'medium', 'medium', 826.51), (18701, 0, 3022, '08.04.2017', 'false', 'Approved', 290.62, 'Trek Bicycles', 'Road', 'medium', 'medium', 215.14), (280, 93, 2487, '08.04.2017', 'false', 'Approved', 1065.03, 'WeareA2B', 'Standard', 'medium', 'medium', 230.09), (3457, 90, 375, '08.04.2017', 'false', 'Approved', 363.01, 'Norco Bicycles', 'Standard', 'low', 'medium', 290.41), (3382, 72, 1422, '08.04.2017', 'false', 'Approved', 360.4, 'Norco Bicycles', 'Standard', 'medium', 'medium', 270.3), (16049, 53, 386, '08.04.2017', 'true', 'Approved', 795.34, 'OHM Cycles', 'Standard', 'medium', 'medium', 101.58), (7828, 56, 2788, '08.04.2017', 'true', 'Approved', 183.86, 'OHM Cycles', 'Standard', 'medium', 'medium', 137.9), (2724, 63, 1589, '08.04.2017', 'true', 'Approved', 1483.2, 'Solex', 'Standard', 'medium', 'medium', 99.59), (12969, 0, 234, '08.04.2017', 'true', 'Approved', 487.8, 'NaN', 'NaN', 'NaN', 'NaN', nan), (11908, 74, 1435, '08.04.2017', 'false', 'Approved', 1228.07, 'WeareA2B', 'Standard', 'medium', 'medium', 400.91), (7802, 35, 1424, '08.04.2017', 'false', 'Approved', 1403.5, 'Giant Bicycles', 'Standard', 'medium', 'medium', 954.82), (2051, 38, 65, '08.04.2017', 'false', 'Approved', 1577.53, 'Solex', 'Standard', 'medium', 'medium', 826.51), (17083, 48, 1581, '08.04.2017', 'true', 'Approved', 1762.96, 'WeareA2B', 'Standard', 'medium', 'medium', 950.52), (10232, 83, 2134, '08.04.2017', 'false', 'Approved', 2083.94, 'Solex', 'Touring', 'medium', 'large', 675.03), (1639, 69, 1867, '08.04.2017', 'false', 'Approved', 792.9, 'Giant Bicycles', 'Road', 'medium', 'medium', 594.68), (19311, 23, 915, '08.04.2017', 'true', 'Approved', 688.63, 'Norco Bicycles', 'Mountain', 'low', 'small', 612.88), (1497, 51, 2346, '08.04.2017', 'true', 'Approved', 2005.66, 'OHM Cycles', 'Standard', 'high', 'medium', 1203.4), (7719, 59, 765, '08.04.2017', 'false', 'Approved', 1061.56, 'Solex', 'Standard', 'medium', 'large', 733.58), (10004, 1, 2963, '08.04.2017', 'false', 'Approved', 1403.5, 'Giant Bicycles', 'Standard', 'medium', 'medium', 954.82), (1418, 22, 36, '08.04.2017', 'false', 'Approved', 60.34, 'WeareA2B', 'Standard', 'medium', 'medium', 45.26), (943, 48, 2954, '08.04.2017', 'false', 'Approved', 1762.96, 'WeareA2B', 'Standard', 'medium', 'medium', 950.52), (11532, 70, 3103, '08.04.2017', 'false', 'Approved', 495.72, 'Trek Bicycles', 'Standard', 'high', 'medium', 297.43), (9961, 50, 2845, '08.04.2017', 'true', 'Approved', 175.89, 'WeareA2B', 'Standard', 'medium', 'small', 131.92), (14032, 34, 2508, '08.04.2017', 'true', 'Approved', 774.53, 'Norco Bicycles', 'Road', 'high', 'large', 464.72), (15108, 11, 3094, '08.04.2017', 'false', 'Approved', 1274.93, 'Giant Bicycles', 'Standard', 'high', 'medium', 764.96), (13995, 23, 598, '08.04.2017', 'true', 'Approved', 1198.46, 'Norco Bicycles', 'Standard', 'medium', 'medium', 381.1), (13715, 85, 1223, '08.04.2017', 'true', 'Approved', 752.64, 'WeareA2B', 'Standard', 'medium', 'medium', 205.36), (15177, 64, 3252, '08.04.2017', 'true', 'Approved', 1977.36, 'Giant Bicycles', 'Standard', 'high', 'small', 1759.85), (11493, 34, 2265, '08.04.2017', 'true', 'Approved', 774.53, 'Norco Bicycles', 'Road', 'high', 'large', 464.72), (13496, 21, 917, '08.04.2017', 'false', 'Approved', 1071.23, 'Solex', 'Standard', 'medium', 'large', 380.74), (16278, 34, 517, '08.04.2017', 'false', 'Approved', 774.53, 'Norco Bicycles', 'Road', 'high', 'large', 464.72), (13162, 64, 3089, '09.04.2017', 'true', 'Approved', 1469.44, 'Trek Bicycles', 'Standard', 'medium', 'large', 596.55), (13160, 2, 2163, '09.04.2017', 'false', 'Approved', 71.49, 'Solex', 'Standard', 'medium', 'medium', 53.62), (13135, 55, 1149, '09.04.2017', 'false', 'Approved', 1894.19, 'Trek Bicycles', 'Road', 'medium', 'large', 598.76), (12999, 40, 2551, '09.04.2017', 'false', 'Approved', 1458.17, 'OHM Cycles', 'Standard', 'high', 'medium', 874.9), (1294, 12, 2311, '09.04.2017', 'false', 'Approved', 1231.15, 'WeareA2B', 'Standard', 'medium', 'medium', 161.6), (12996, 47, 1597, '09.04.2017', 'true', 'Approved', 1720.7, 'Trek Bicycles', 'Road', 'low', 'small', 1531.42), (12989, 11, 1404, '09.04.2017', 'true', 'Approved', 1274.93, 'Giant Bicycles', 'Standard', 'high', 'medium', 764.96), (15597, 49, 1258, '09.04.2017', 'true', 'Approved', 533.51, 'Trek Bicycles', 'Road', 'medium', 'medium', 400.13), (11252, 29, 661, '09.04.2017', 'false', 'Approved', 1065.03, 'WeareA2B', 'Standard', 'medium', 'medium', 230.09), (10682, 4, 1000, '09.04.2017', 'false', 'Approved', 1129.13, 'Giant Bicycles', 'Standard', 'high', 'medium', 677.48), (948, 97, 1601, '09.04.2017', 'false', 'Approved', 202.62, 'Solex', 'Standard', 'medium', 'large', 151.96), (10612, 45, 255, '09.04.2017', 'false', 'Approved', 441.49, 'Solex', 'Standard', 'medium', 'medium', 84.99), (10525, 73, 2152, '09.04.2017', 'true', 'Approved', 1945.43, 'Solex', 'Standard', 'medium', 'medium', 333.18), (10358, 53, 1440, '09.04.2017', 'false', 'Approved', 1274.93, 'Giant Bicycles', 'Standard', 'high', 'medium', 764.96), (16200, 61, 1001, '09.04.2017', 'true', 'Approved', 71.16, 'OHM Cycles', 'Standard', 'low', 'medium', 56.93), (9687, 10, 2597, '09.04.2017', 'false', 'Approved', 1945.43, 'Solex', 'Standard', 'medium', 'medium', 333.18), (9685, 91, 1025, '09.04.2017', 'true', 'Approved', 100.35, 'Solex', 'Standard', 'medium', 'medium', 75.26), (9460, 74, 1644, '09.04.2017', 'true', 'Approved', 1228.07, 'WeareA2B', 'Standard', 'medium', 'medium', 400.91), (16459, 86, 1717, '09.04.2017', 'false', 'Approved', 235.63, 'OHM Cycles', 'Standard', 'medium', 'medium', 125.07), (9329, 8, 2787, '09.04.2017', 'true', 'Approved', 1703.52, 'Solex', 'Road', 'medium', 'small', 1516.13), (16741, 8, 2121, '09.04.2017', 'false', 'Approved', 1703.52, 'Solex', 'Road', 'medium', 'small', 1516.13), (8534, 76, 608, '09.04.2017', 'true', 'Approved', 1172.78, 'WeareA2B', 'Road', 'low', 'small', 1043.77), (8087, 20, 2131, '09.04.2017', 'NaN', 'Approved', 1775.81, 'Trek Bicycles', 'Standard', 'medium', 'small', 1580.47), (8024, 0, 803, '09.04.2017', 'false', 'Approved', 290.62, 'Trek Bicycles', 'Road', 'medium', 'medium', 215.14), (7891, 49, 1980, '09.04.2017', 'false', 'Approved', 1061.56, 'Solex', 'Standard', 'medium', 'large', 733.58), (7847, 69, 2943, '09.04.2017', 'true', 'Approved', 1240.31, 'Norco Bicycles', 'Road', 'medium', 'large', 795.1), (17001, 73, 1682, '09.04.2017', 'true', 'Approved', 1945.43, 'Solex', 'Standard', 'medium', 'medium', 333.18), (7803, 24, 2499, '09.04.2017', 'false', 'Approved', 1777.8, 'Solex', 'Road', 'medium', 'large', 820.78), (7777, 0, 1427, '09.04.2017', 'NaN', 'Approved', 499.53, 'Trek Bicycles', 'Standard', 'medium', 'medium', 388.72), (7181, 13, 2077, '09.04.2017', 'true', 'Approved', 1163.89, 'Solex', 'Standard', 'medium', 'medium', 589.27), (7165, 7, 2763, '09.04.2017', 'true', 'Approved', 980.37, 'Trek Bicycles', 'Road', 'low', 'medium', 234.43), (17157, 17, 1870, '09.04.2017', 'false', 'Approved', 1024.66, 'Solex', 'Standard', 'high', 'medium', 614.8), (6938, 77, 2209, '09.04.2017', 'false', 'Approved', 1240.31, 'Norco Bicycles', 'Road', 'medium', 'large', 795.1), (17168, 3, 655, '09.04.2017', 'false', 'Approved', 2091.47, 'Trek Bicycles', 'Standard', 'medium', 'large', 388.92), (6859, 75, 1524, '09.04.2017', 'true', 'Approved', 1873.97, 'Giant Bicycles', 'Touring', 'medium', 'large', 863.95), (5781, 8, 404, '09.04.2017', 'true', 'Approved', 1703.52, 'Solex', 'Road', 'medium', 'small', 1516.13), (19556, 28, 1992, '09.04.2017', 'true', 'Approved', 1216.14, 'Norco Bicycles', 'Standard', 'medium', 'small', 1082.36), (671, 67, 2874, '09.04.2017', 'false', 'Approved', 544.05, 'Norco Bicycles', 'Road', 'medium', 'medium', 376.84), (5105, 42, 2845, '09.04.2017', 'false', 'Approved', 1810.0, 'OHM Cycles', 'Road', 'medium', 'small', 1610.9), (4765, 100, 239, '09.04.2017', 'true', 'Approved', 1036.59, 'Norco Bicycles', 'Road', 'medium', 'medium', 206.35), (19655, 0, 336, '09.04.2017', 'true', 'Approved', 360.4, 'Norco Bicycles', 'Standard', 'medium', 'medium', 270.3), (4534, 10, 2695, '09.04.2017', 'false', 'Approved', 1466.68, 'WeareA2B', 'Touring', 'medium', 'medium', 363.25), (4074, 0, 1841, '09.04.2017', 'false', 'Approved', 1541.62, 'NaN', 'NaN', 'NaN', 'NaN', nan), (3716, 17, 477, '09.04.2017', 'true', 'Approved', 1362.99, 'WeareA2B', 'Touring', 'medium', 'large', 57.74), (3707, 91, 994, '09.04.2017', 'true', 'Approved', 100.35, 'Solex', 'Standard', 'medium', 'medium', 75.26), (18478, 91, 2019, '09.04.2017', 'true', 'Approved', 642.31, 'WeareA2B', 'Standard', 'low', 'medium', 513.85), (18529, 32, 999, '09.04.2017', 'false', 'Approved', 1179.0, 'Giant Bicycles', 'Standard', 'high', 'medium', 707.4), (3527, 31, 3157, '09.04.2017', 'false', 'Approved', 230.91, 'Giant Bicycles', 'Standard', 'medium', 'medium', 173.18), (3510, 83, 1056, '09.04.2017', 'false', 'Approved', 2083.94, 'Solex', 'Touring', 'medium', 'large', 675.03), (3459, 17, 1085, '09.04.2017', 'false', 'Approved', 1024.66, 'Solex', 'Standard', 'high', 'medium', 614.8), (18681, 48, 3165, '09.04.2017', 'true', 'Approved', 1762.96, 'WeareA2B', 'Standard', 'medium', 'medium', 950.52), (3363, 33, 2853, '09.04.2017', 'true', 'Approved', 1810.0, 'OHM Cycles', 'Road', 'medium', 'small', 1610.9), (3189, 69, 263, '09.04.2017', 'false', 'Approved', 1240.31, 'Norco Bicycles', 'Road', 'medium', 'large', 795.1), (2590, 0, 2981, '09.04.2017', 'false', 'Approved', 71.49, 'Solex', 'Standard', 'medium', 'medium', 53.62), (19057, 13, 1003, '09.04.2017', 'true', 'Approved', 1577.53, 'Solex', 'Standard', 'medium', 'medium', 826.51), (2304, 42, 2280, '09.04.2017', 'false', 'Approved', 1810.0, 'OHM Cycles', 'Road', 'medium', 'small', 1610.9), (220, 10, 1502, '09.04.2017', 'true', 'Approved', 1466.68, 'WeareA2B', 'Touring', 'medium', 'medium', 363.25), (1714, 73, 1459, '09.04.2017', 'true', 'Approved', 1945.43, 'Solex', 'Standard', 'medium', 'medium', 333.18), (14336, 58, 1301, '09.04.2017', 'false', 'Approved', 912.52, 'OHM Cycles', 'Standard', 'medium', 'medium', 141.4), (14619, 78, 1499, '09.04.2017', 'true', 'Approved', 1765.3, 'Giant Bicycles', 'Standard', 'medium', 'large', 709.48), (14640, 49, 3176, '09.04.2017', 'false', 'Approved', 533.51, 'Trek Bicycles', 'Road', 'medium', 'medium', 400.13), (14319, 76, 240, '09.04.2017', 'true', 'Approved', 1172.78, 'WeareA2B', 'Road', 'low', 'small', 1043.77), (14720, 59, 2111, '09.04.2017', 'true', 'Approved', 1061.56, 'Solex', 'Standard', 'medium', 'large', 733.58), (13567, 76, 102, '09.04.2017', 'false', 'Approved', 642.31, 'WeareA2B', 'Standard', 'low', 'medium', 513.85), (15304, 63, 3160, '09.04.2017', 'NaN', 'Approved', 1483.2, 'Solex', 'Standard', 'medium', 'medium', 99.59)]\n"
     ]
    }
   ],
   "source": [
    "cursor.execute(f\"\"\"\n",
    "                select *\n",
    "                from transaction\n",
    "                where order_status = 'Approved' \n",
    "                and to_timestamp(transaction_date, 'DD.MM.YYYY') between '2017-04-01'::timestamp and '2017-04-09'::timestamp\n",
    "                order by transaction_date\n",
    "                \"\"\")\n",
    "result = cursor.fetchall()\n",
    "print(len(result))\n",
    "print(result)"
   ]
  },
  {
   "cell_type": "markdown",
   "metadata": {},
   "source": [
    "### 2.3"
   ]
  },
  {
   "cell_type": "code",
   "execution_count": 120,
   "metadata": {},
   "outputs": [
    {
     "data": {
      "text/plain": [
       "array(['Health', 'Financial Services', 'Property', 'IT', nan, 'Retail',\n",
       "       'Argiculture', 'Manufacturing', 'Telecommunications',\n",
       "       'Entertainment'], dtype=object)"
      ]
     },
     "execution_count": 120,
     "metadata": {},
     "output_type": "execute_result"
    }
   ],
   "source": [
    "df_customer.job_industry_category.unique()"
   ]
  },
  {
   "cell_type": "code",
   "execution_count": 229,
   "metadata": {},
   "outputs": [
    {
     "name": "stdout",
     "output_type": "stream",
     "text": [
      "81\n",
      "[('Senior Quality Engineer',), ('Senior Cost Accountant',), ('Senior Financial Analyst',), ('Senior Financial Analyst',), ('Senior Sales Associate',), ('Senior Financial Analyst',), ('Senior Financial Analyst',), ('Senior Financial Analyst',), ('Senior Cost Accountant',), ('Senior Financial Analyst',), ('Senior Cost Accountant',), ('Senior Cost Accountant',), ('Senior Financial Analyst',), ('Senior Cost Accountant',), ('Senior Developer',), ('Senior Financial Analyst',), ('Senior Cost Accountant',), ('Senior Financial Analyst',), ('Senior Financial Analyst',), ('Senior Financial Analyst',), ('Senior Cost Accountant',), ('Senior Cost Accountant',), ('Senior Cost Accountant',), ('Senior Developer',), ('Senior Financial Analyst',), ('Senior Sales Associate',), ('Senior Cost Accountant',), ('Senior Financial Analyst',), ('Senior Financial Analyst',), ('Senior Financial Analyst',), ('Senior Financial Analyst',), ('Senior Quality Engineer',), ('Senior Financial Analyst',), ('Senior Cost Accountant',), ('Senior Cost Accountant',), ('Senior Cost Accountant',), ('Senior Cost Accountant',), ('Senior Financial Analyst',), ('Senior Developer',), ('Senior Developer',), ('Senior Editor',), ('Senior Cost Accountant',), ('Senior Financial Analyst',), ('Senior Cost Accountant',), ('Senior Cost Accountant',), ('Senior Financial Analyst',), ('Senior Financial Analyst',), ('Senior Cost Accountant',), ('Senior Cost Accountant',), ('Senior Cost Accountant',), ('Senior Financial Analyst',), ('Senior Financial Analyst',), ('Senior Editor',), ('Senior Financial Analyst',), ('Senior Financial Analyst',), ('Senior Financial Analyst',), ('Senior Editor',), ('Senior Financial Analyst',), ('Senior Financial Analyst',), ('Senior Cost Accountant',), ('Senior Cost Accountant',), ('Senior Cost Accountant',), ('Senior Developer',), ('Senior Editor',), ('Senior Financial Analyst',), ('Senior Quality Engineer',), ('Senior Editor',), ('Senior Cost Accountant',), ('Senior Financial Analyst',), ('Senior Developer',), ('Senior Cost Accountant',), ('Senior Financial Analyst',), ('Senior Cost Accountant',), ('Senior Financial Analyst',), ('Senior Financial Analyst',), ('Senior Financial Analyst',), ('Senior Quality Engineer',), ('Senior Financial Analyst',), ('Senior Financial Analyst',), ('Senior Editor',), ('Senior Financial Analyst',)]\n"
     ]
    }
   ],
   "source": [
    "cursor.execute(f\"\"\"\n",
    "                select job_title\n",
    "                from customer\n",
    "                where job_industry_category in ('IT', 'Financial Services')\n",
    "                and starts_with(job_title, 'Senior')\n",
    "                \"\"\")\n",
    "result = cursor.fetchall()\n",
    "print(len(result))\n",
    "print(result)"
   ]
  },
  {
   "cell_type": "markdown",
   "metadata": {},
   "source": [
    "### 2.4"
   ]
  },
  {
   "cell_type": "code",
   "execution_count": 230,
   "metadata": {},
   "outputs": [
    {
     "name": "stdout",
     "output_type": "stream",
     "text": [
      "7\n",
      "[('Giant Bicycles',), ('NaN',), ('Norco Bicycles',), ('OHM Cycles',), ('Solex',), ('Trek Bicycles',), ('WeareA2B',)]\n"
     ]
    }
   ],
   "source": [
    "cursor.execute(f\"\"\"\n",
    "                select distinct brand\n",
    "                from transaction as t left join customer as c on t.customer_id = c.customer_id \n",
    "                where job_industry_category = 'Financial Services'\n",
    "                \"\"\")\n",
    "result = cursor.fetchall()\n",
    "print(len(result))\n",
    "print(result)"
   ]
  },
  {
   "cell_type": "markdown",
   "metadata": {},
   "source": [
    "### 2.5"
   ]
  },
  {
   "cell_type": "code",
   "execution_count": 243,
   "metadata": {},
   "outputs": [
    {
     "data": {
      "text/plain": [
       "array([False, True, nan], dtype=object)"
      ]
     },
     "execution_count": 243,
     "metadata": {},
     "output_type": "execute_result"
    }
   ],
   "source": [
    "df_transaction.online_order.unique()"
   ]
  },
  {
   "cell_type": "code",
   "execution_count": 258,
   "metadata": {},
   "outputs": [
    {
     "name": "stdout",
     "output_type": "stream",
     "text": [
      "10\n",
      "[('Brett', 'McCalister'), ('Joannes', 'Harbron'), ('Byrom', 'Draisey'), ('Terrijo', 'Merlin'), ('Melamie', 'Hardman'), ('Kerry', 'Pashenkov'), ('Banky', 'Baudichon'), ('Drake', 'Riguard'), ('Venus', 'Sketch'), ('Maressa', 'Kondrachenko')]\n"
     ]
    }
   ],
   "source": [
    "cursor.execute(f\"\"\"\n",
    "                select distinct c.first_name, c.last_name\n",
    "                from transaction as t left join customer as c on t.customer_id = c.customer_id\n",
    "                where brand in ('Giant Bicycles', 'Norco Bicycles', 'Trek Bicycles')\n",
    "                and coalesce(nullif(online_order, 'NaN'), 'False')::boolean is True\n",
    "                limit 10\n",
    "                \"\"\")\n",
    "result = cursor.fetchall()\n",
    "print(len(result))\n",
    "print(result)"
   ]
  },
  {
   "cell_type": "markdown",
   "metadata": {},
   "source": [
    "### 2.6"
   ]
  },
  {
   "cell_type": "code",
   "execution_count": 259,
   "metadata": {},
   "outputs": [
    {
     "name": "stdout",
     "output_type": "stream",
     "text": [
      "507\n",
      "[('Costa', 'Sleightholm'), ('Barnie', 'Blenkensop'), ('Enriqueta', 'Waterhowse'), ('Ali', 'Naris'), ('Davie', 'Moscon'), ('Chicky', 'Butterfield'), ('Luca', 'Cabotto'), ('Donavon', 'Ainsby'), ('Ado', 'Gailor'), ('Wadsworth', 'Ruselin'), ('Zarla', 'Seyers'), ('Rica', 'Corrado'), ('Travis', 'Kaszper'), ('Mahmoud', 'Ligerton'), ('Jessie', 'Wards'), ('Hadria', 'Moles'), ('Josepha', 'Finder'), ('Marinna', 'Ors'), ('Troy', 'Blaydes'), ('Shay', 'Rayer'), ('Peder', 'Frotton'), ('Blancha', 'Baldi'), ('Lemuel', 'Gerram'), ('Myrtia', 'NaN'), ('Ephrem', 'Hollerin'), ('Elyssa', 'De Witt'), ('Nicolas', 'Burdass'), ('Olivie', 'Nazair'), ('Erik', 'Kenneford'), ('Caryn', 'Padbury'), ('Kacie', 'Stanbrooke'), ('Dolf', 'Serridge'), ('Kennie', 'Baszniak'), ('Berti', 'Arnould'), ('Cassandra', 'Cescotti'), ('Tuckie', 'NaN'), ('Christi', 'Gilluley'), ('Cornie', 'Hillhouse'), ('Willow', 'Cutmere'), ('Di', 'Borsnall'), ('Orel', 'Joncic'), ('Jemima', 'Izaac'), ('Griffith', 'Minor'), ('Perry', 'Lampert'), ('Henrie', 'Beadman'), ('Leupold', 'Bernardini'), ('Fowler', 'Bauduccio'), ('Urbanus', 'Fuxman'), ('Reginald', 'Struys'), ('Carolan', 'Velez'), ('Conway', 'NaN'), ('Willem', 'Spraging'), ('Shelden', 'Rodenburg'), ('Margaret', 'McSperrin'), ('Adelice', 'Tams'), ('Letty', 'Giacobelli'), ('Kiley', 'Scotson'), ('Violetta', 'Monnery'), ('Gustavo', 'Juschka'), ('Junia', 'Napton'), ('Stephie', 'Byars'), ('Aubrey', 'Souten'), ('Mignonne', 'Barwood'), ('Jorgan', 'Crosoer'), ('Roma', 'Finlater'), ('Andy', 'Risely'), ('Dianemarie', 'Kidgell'), ('Merilee', 'Hammerson'), ('Brenna', 'Raft'), ('Martynne', 'Bullivant'), ('Valeda', 'Ezele'), ('Jamie', 'Staziker'), ('Timi', 'Huson'), ('Addia', 'Abels'), ('Blanch', 'Nisuis'), ('Hall', 'Leyfield'), ('Ardith', 'Portigall'), ('Allistir', 'Heckney'), ('Sarajane', 'Mortimer'), ('Reynard', 'Hagger'), ('Fowler', 'Scotsbrook'), ('Larina', 'Gheeorghie'), ('Jayne', 'Gawthrope'), ('Evyn', 'Rouby'), ('Misha', 'Ranklin'), ('Hunt', 'Scollard'), ('Darby', 'Jellett'), ('Kylie', 'Epine'), ('Tobin', 'Fucher'), ('Rachel', 'Somes'), ('Uriah', 'Chantree'), ('Latashia', 'NaN'), ('Maynard', 'Isaq'), ('Umeko', 'Hearfield'), ('Aloin', 'Harhoff'), ('Shannen', 'Pitcock'), ('Karalee', 'Hosten'), ('Georges', 'Dumbelton'), ('Morgen', 'Sieghart'), ('Mab', 'Dwyer'), ('Alic', 'Juniper'), ('Valerye', 'Yukhtin'), ('Avie', 'Cleator'), ('Baxie', 'NaN'), ('Emmy', 'MacGibbon'), ('Cinnamon', 'Batram'), ('Darcy', 'Ilett'), ('Cinda', 'Rounds'), ('Beryle', 'Qusklay'), ('Carry', 'Abercromby'), ('Magdaia', 'Beardwell'), ('Alysa', 'McDiarmid'), ('Boonie', 'Searle'), ('Nalani', 'Dummer'), ('Wyatan', 'Rogeon'), ('Neale', 'Lowings'), ('Brnaby', 'Doughtery'), ('Naomi', 'Whiles'), ('Hally', 'Pollie'), ('Nariko', 'McClymont'), ('Carolan', 'Jorez'), ('Vanni', 'McAloren'), ('Sabina', 'Tarbin'), ('Cale', 'Yaneev'), ('Andie', 'Bonney'), ('Eba', 'Youle'), ('Kelvin', 'Oldford'), ('Hadley', 'Veracruysse'), ('Farra', 'Catto'), ('Alexandra', 'Kroch'), ('Elset', 'NaN'), ('Ebony', 'Peagrim'), ('Roslyn', 'Rawdall'), ('Jayson', 'Gasparro'), ('Cchaddie', 'Heffron'), ('Thayne', 'Canepe'), ('Marlow', 'Balffye'), ('Barnebas', 'Munro'), ('Dunn', 'Ziem'), ('Esmeralda', 'Klousner'), ('Elena', 'Sandys'), ('Tisha', 'Gibbings'), ('Donella', 'Disley'), ('Maurise', 'Beal'), ('Lillian', 'Somerfield'), ('Lin', 'Tarver'), ('Bibby', 'Goman'), ('Bren', 'Dabbes'), ('Angelia', 'McPake'), ('Sholom', 'Pavlasek'), ('Erny', 'Andryushin'), ('Sophie', 'Druhan'), ('Wolfie', 'Hoyes'), ('Cozmo', 'Rylstone'), ('Perla', 'Blakiston'), ('Murielle', 'Klimkov'), ('Kerby', 'Nassie'), ('Izabel', 'Roelofs'), ('Law', 'Jore'), ('Virgilio', 'Haverty'), ('Tracie', 'Bartolomeoni'), ('Ardelle', 'Dasent'), ('Cammie', 'Rubinfeld'), ('Benoit', 'NaN'), ('Jarred', 'Lyste'), ('Pincus', 'Woodard'), ('Katlin', 'Ragsdale'), ('Cal', 'Wilber'), ('Arabelle', 'Nevill'), ('Traci', 'Beeckx'), ('Faina', 'Czaja'), ('Christina', 'Grevatt'), ('Wilma', 'Budcock'), ('Willis', 'Tilston'), ('Myranda', 'Cridland'), ('Janine', 'Hesey'), ('Rolph', 'Sweetnam'), ('Armand', 'McNish'), ('Shaylynn', 'Epsley'), ('Alicea', 'Scamwell'), ('Skelly', 'Caudell'), ('Allene', 'Pauly'), ('Lem', 'Clamp'), ('Elijah', 'Drillot'), ('Kathlin', 'Robker'), ('Taylor', 'Dollimore'), ('Carlyle', 'Frape'), ('Dido', 'Austick'), ('Oneida', 'Olivia'), ('Kandace', 'Desesquelle'), ('Linea', 'Kubica'), ('Devlen', 'Perrett'), ('Allyson', 'Simak'), ('Beckie', 'Wakeham'), ('Fritz', 'Le Merchant'), ('Waldon', 'Digges'), ('Ryon', 'Darridon'), ('Thaddeus', 'McLurg'), ('Angelita', 'Itzcovichch'), ('Wilie', 'Glanton'), ('Bendicty', 'Juste'), ('Mitchel', 'Bellefant'), ('Town', 'Yitzhakov'), ('Gav', 'Bonin'), ('Melody', 'Ivanilov'), ('Katrinka', 'Van der Beken'), ('Perl', 'Suddaby'), ('Veda', 'Faill'), ('Lillis', 'Dobrowolski'), ('Darrelle', 'Rosas'), ('Lane', 'Maguire'), ('Bo', 'Vell'), ('Mavra', 'Padell'), ('Concordia', 'Lunbech'), ('Ellene', 'Scinelli'), ('Wenonah', 'Filgate'), ('Filbert', 'Deetlefs'), ('Lilly', 'Roubay'), ('Shawn', 'De Hooge'), ('Barbie', 'Gergler'), ('Erl', 'Markel'), ('Farra', 'Bails'), ('Adriana', 'Heam'), ('Ilaire', 'Redborn'), ('Werner', 'Yglesias'), ('Casey', 'Kett'), ('Giorgi', 'NaN'), ('Abby', 'Brownstein'), ('Rosalia', 'Skedge'), ('Mordy', 'Hedin'), ('Tessy', 'Beefon'), ('Tanitansy', 'McTrustam'), ('Vale', 'Starcks'), ('Eileen', 'Eland'), ('Sascha', 'Paolozzi'), ('Mariejeanne', 'Kelling'), ('Adler', 'Teale'), ('Gates', 'Nelthorpe'), ('Adler', 'Dredge'), ('Godart', 'Gooderick'), ('Lenka', 'NaN'), ('Lazar', 'Restall'), ('Eileen', 'Ilchenko'), ('Etta', 'Leele'), ('Cherida', 'Whyffen'), ('Dietrich', 'Geggie'), ('Kayla', 'Alentyev'), ('May', 'Birch'), ('Alvan', 'Phillput'), ('Dukie', 'Asson'), ('Gerry', 'Ackhurst'), ('Waiter', 'Piscopello'), ('Kenyon', 'Paddefield'), ('Man', 'Bigglestone'), ('Lorain', 'Maliphant'), ('Doll', 'Benedicto'), ('Elisha', 'Venny'), ('Austine', 'Kinny'), ('Cora', 'Hince'), ('Benoite', 'Trahmel'), ('Cally', 'Chaim'), ('Fidela', 'Haresign'), ('Demetrius', 'Youdell'), ('Conny', 'Speechley'), ('Aldus', 'Kenningley'), ('Erinn', 'Ewing'), ('Ganny', 'Dwerryhouse'), ('Lindsy', 'Ygo'), ('Anselma', 'Rennie'), ('Oren', 'Barwack'), ('Tadeas', 'Shitliff'), ('Lorri', 'Byrth'), ('Hector', 'Poundsford'), ('Cherice', 'Wehner'), ('Antoni', 'MacAllister'), ('Clotilda', 'Oret'), ('Cybil', 'Brombell'), ('Van', 'Durnell'), ('Zed', 'Douris'), ('Sheelah', 'Caine'), ('Kory', 'Mabson'), ('Sharron', 'Gaynes'), ('Jacqui', 'Fortnam'), ('Vin', 'Attack'), ('Ilyssa', 'Piaggia'), ('Pippy', 'Matysiak'), ('Joann', 'Clemson'), ('Burgess', 'Diaper'), ('Bettye', 'Dumberrill'), ('Astrix', 'Sigward'), ('Marten', 'Posnette'), ('Nissa', 'Conrad'), ('Kriste', 'Oldall'), ('Pippo', 'Cator'), ('Yorker', 'Dennison'), ('Merrili', 'Potticary'), ('Dayna', 'Cawthera'), ('Crystie', 'Deshorts'), ('Georgine', 'Poutress'), ('Dorrie', 'Paige'), ('Andi', 'Dumelow'), ('Hermy', 'Casement'), ('Tootsie', 'Rafter'), ('Dalli', 'Seden'), ('Samuele', 'Heller'), ('Gaby', 'Lozano'), ('Bartel', 'Fonteyne'), ('Emelda', 'Allbones'), ('Shannah', 'Pountain'), ('Lusa', 'Vigers'), ('Merralee', 'Forman'), ('Fernande', 'Jahan'), ('Clemence', 'Kornas'), ('Wylie', 'FitzGilbert'), ('Bernice', 'Scotchforth'), ('Brennen', 'Mularkey'), ('Jeni', 'Heymes'), ('Kleon', 'Adam'), ('Fairfax', 'Pummery'), ('Ebeneser', 'Lowde'), ('Fidelia', 'Cess'), ('Constancia', 'Gebbe'), ('Alexandro', 'McCullock'), ('Sawyere', 'Onele'), ('Dulcie', 'Nealon'), ('Penny', 'McKirdy'), ('Caddric', 'Ruddiforth'), ('Hobart', 'Burgan'), ('Diarmid', 'Vearnals'), ('Mercy', 'Donisi'), ('Kari', 'Bamlett'), ('Bram', 'Pheasant'), ('Nettie', 'Goghin'), ('Anna', 'Warmington'), ('Rex', 'Gittings'), ('Giffard', 'Stollman'), ('Lois', 'Laskey'), ('Jamima', 'Wainscot'), ('Marcos', 'Algar'), ('Janel', 'Daice'), ('Conn', 'Westberg'), ('Daisey', 'Britto'), ('Chanda', 'Garmons'), ('Normand', 'Matous'), ('Carmelia', 'Klimentyonok'), ('Elizabeth', 'Christy'), ('Anstice', 'Dunsmuir'), ('Laurence', 'Aulsford'), ('Jodee', 'Macewan'), ('Briggs', 'Mower'), ('Domeniga', 'Terney'), ('Sheila-kathryn', 'Conklin'), ('Millicent', 'Nacci'), ('Loren', 'Pischof'), ('Lazarus', 'Donaghy'), ('Bryana', 'Vennart'), ('Dolly', 'Scallan'), ('Trudi', 'Bickerstasse'), ('Ulick', 'Daspar'), ('Leodora', 'Cowill'), ('Justine', 'Pirt'), ('Dannie', 'Sowray'), ('Barry', 'NaN'), ('Tanner', 'McCuthais'), ('Gertie', 'Caser'), ('Artemas', 'Kyncl'), ('Aldrich', 'Camble'), ('Sheela', 'Nutton'), ('Randee', 'Penchen'), ('Sue', 'Batstone'), ('Rania', 'Poulter'), ('Mathew', 'Seid'), ('De', 'Leyband'), ('Germain', 'Tireman'), ('Keriann', 'Perdue'), ('Nils', 'McGebenay'), ('Archaimbaud', 'McAteer'), ('Andria', 'Keays'), ('Findlay', 'Lubman'), ('Thadeus', 'Buxsey'), ('Stephen', 'Garnar'), ('Pail', 'Iacopini'), ('Ange', 'Austick'), ('Floyd', 'Meharry'), ('Maribelle', 'Schaffel'), ('Oralle', 'Petrello'), ('Haslett', 'Ropars'), ('Sibley', 'Thirlwall'), ('Konstance', 'Draye'), ('Zerk', 'Merrien'), ('Mil', 'Clemitt'), ('Auberta', 'Andrault'), ('Mollee', 'Jeavons'), ('Garland', 'Wildsmith'), ('Charyl', 'Pottiphar'), ('Cynthy', 'Snoad'), ('Evelina', 'Bavin'), ('Ingunna', 'Loxston'), ('Shane', 'Haseldine'), ('Othilia', 'Metcalf'), ('Leila', 'Elcombe'), ('Devon', 'Baudic'), ('Theressa', 'Morfield'), ('Bonnie', 'Goracci'), ('Rochette', 'Ebbens'), ('Maren', 'Ruske'), ('Willow', 'Rusbridge'), ('Conway', 'Surgen'), ('Torey', 'Sarney'), ('Patrizius', 'NaN'), ('Zebedee', 'Christal'), ('Nona', 'Tubb'), ('Morena', 'Ayer'), ('Wallie', 'Christauffour'), ('Wilfrid', 'Cleaves'), ('Gradeigh', 'Hothersall'), ('Riki', 'Aimable'), ('Kristin', 'Way'), ('Jareb', 'Filippucci'), ('Carrol', 'Gheorghie'), ('Shirley', 'Siss'), ('Mathew', 'Marousek'), ('Maurita', \"O'Kinedy\"), ('Kerri', 'Marrington'), ('Dorette', 'Attridge'), ('Eachelle', 'Girardey'), ('Modesty', 'Storks'), ('Talia', 'Sidnell'), ('Ammamaria', 'Ashburne'), ('Berthe', 'Griniov'), ('Kippy', 'Oldland'), ('Bobbe', 'Lomaz'), ('Charles', 'Brounfield'), ('Waldemar', 'Mostin'), ('Christoph', 'Greatreax'), ('Cacilie', 'Grimoldby'), ('Yanaton', 'Beacom'), ('Tonya', 'Worthington'), ('Marice', 'Morrice'), ('Berkie', 'Gimber'), ('Roberto', 'Beinke'), ('Damiano', 'NaN'), ('Fifi', 'Dorrins'), ('Blondelle', 'Swynley'), ('Derk', 'Willingale'), ('Jolee', 'Stearndale'), ('Amalie', 'Isabell'), ('Micheil', 'McGeorge'), ('Jeffie', 'Mortell'), ('Vale', 'Dagnan'), ('Peta', 'Nunes Nabarro'), ('Jessa', 'Milnthorpe'), ('Randy', 'Duligall'), ('Rosalia', 'Halgarth'), ('Kurtis', 'Morson'), ('Malvin', 'Marre'), ('Dulcy', 'Wormleighton'), ('Orlan', 'Dunning'), ('Rodger', 'Gores'), ('Shanie', 'Zahor'), ('Susannah', 'Dumphy'), ('Bianca', 'Ricket'), ('Farra', 'Klimkiewich'), ('Solomon', 'Ruffles'), ('Anetta', 'Brosenius'), ('Arlin', 'Woollacott'), ('Amalea', 'Elcy'), ('Trixi', 'Wickes'), ('Asher', 'NaN'), ('Nonie', 'Newson'), ('Sallyann', 'Stangoe'), ('Pall', 'MacCart'), ('Jandy', 'Rodgers'), ('Dorella', 'Sineath'), ('Phylys', 'Neenan'), ('Magda', 'Shugg'), ('Roby', 'Samson'), ('Chiarra', 'Cops'), ('Sandy', 'Olford'), ('Eliot', 'Scammell'), ('Rusty', 'Iapico'), ('Gretel', 'Chrystal'), ('Urbain', 'Sinnock'), ('Leelah', 'Pynner'), ('Teodor', 'Alfonsini'), ('Bronny', 'Claige'), ('Josselyn', 'Mathey'), ('Marc', 'Torrans'), ('Tedmund', 'Clawsley'), ('Frans', 'Whitecross'), ('Fanya', 'Gethyn'), ('Bertrand', 'Sissons'), ('Analise', 'Asbrey'), ('Ines', 'Galfour'), ('Luigi', 'Edgeworth'), ('Edsel', 'Arguile'), ('Lucila', 'Smalls'), ('Vladimir', 'Abramowsky'), ('Kerry', 'Wooldridge'), ('Franchot', 'Loeber'), ('Sarene', 'Woolley'), ('Megan', 'Perrygo'), ('Rodd', 'Spare'), ('Corabel', 'Todd'), ('Hyacinthia', 'Crain'), ('Dwight', 'Kinsey'), ('Toma', 'Klaaasen')]\n"
     ]
    }
   ],
   "source": [
    "cursor.execute(f\"\"\"\n",
    "                select distinct c.first_name, c.last_name\n",
    "                from customer as c left join transaction as t on c.customer_id = t.customer_id\n",
    "                where t.customer_id is NULL\n",
    "                \"\"\")\n",
    "result = cursor.fetchall()\n",
    "print(len(result))\n",
    "print(result)"
   ]
  },
  {
   "cell_type": "markdown",
   "metadata": {},
   "source": [
    "### 2.7"
   ]
  },
  {
   "cell_type": "code",
   "execution_count": 262,
   "metadata": {},
   "outputs": [
    {
     "name": "stdout",
     "output_type": "stream",
     "text": [
      "16\n",
      "[('Birk', 'Elphey'), ('Carolann', 'Ottiwill'), ('Caterina', 'Scedall'), ('Goldarina', 'Rzehorz'), ('Jephthah', 'Bachmann'), ('Keeley', 'Kruger'), ('Moritz', 'Brognot'), ('Nickolas', 'Guittet'), ('Obed', 'Pauler'), ('Pieter', 'Gadesby'), ('Reggie', 'Broggetti'), ('Robin', 'Crack'), ('Shandie', 'Sprigg'), ('Sharla', 'Creebo'), ('Valaria', 'Hugh'), ('Wayne', 'Woodfin')]\n"
     ]
    }
   ],
   "source": [
    "cursor.execute(f\"\"\"\n",
    "                select distinct c.first_name, c.last_name\n",
    "                from transaction as t left join customer as c on t.customer_id = c.customer_id\n",
    "                where c.job_industry_category = 'IT'\n",
    "                and standard_cost = (\n",
    "                    select max(standard_cost)\n",
    "                    from transaction\n",
    "                )\n",
    "                \"\"\")\n",
    "result = cursor.fetchall()\n",
    "print(len(result))\n",
    "print(result)"
   ]
  },
  {
   "cell_type": "markdown",
   "metadata": {},
   "source": [
    "### 2.8"
   ]
  },
  {
   "cell_type": "code",
   "execution_count": 271,
   "metadata": {},
   "outputs": [
    {
     "name": "stdout",
     "output_type": "stream",
     "text": [
      "115\n",
      "[('Ahmed', 'Edmondson'), ('Aldous', 'Cubin'), ('Aloisia', 'Shawel'), ('Alwin', 'Cuberley'), ('Andreas', 'Bazely'), ('Angelo', 'NaN'), ('Annabella', 'Hebron'), ('Ardelle', 'NaN'), ('Arliene', 'Bartolijn'), ('Basilius', 'Coupe'), ('Betsy', 'Cosh'), ('Birk', 'Elphey'), ('Booth', 'Birkin'), ('Brenn', 'Bacon'), ('Bret', 'Ivakhnov'), ('Bronson', 'Plowman'), ('Bryn', 'Rycraft'), ('Burr', 'Gerb'), ('Cameron', 'Letherbury'), ('Carmela', 'Jesper'), ('Caterina', 'Scedall'), ('Cathlene', 'Bellas'), ('Cinderella', 'Haslen'), ('Clint', 'Krause'), ('Conroy', 'Healy'), ('Corny', 'Millott'), ('Creight', 'Deery'), ('Damara', 'Wheatland'), (\"D'arcy\", 'Slay'), ('Daron', 'Umpleby'), ('Dawna', 'McCullen'), ('Ddene', 'Burleton'), ('Deeanne', 'Durtnell'), ('Dennie', 'Eunson'), ('Durante', 'Reddan'), ('Elinor', 'Biggerstaff'), ('Elka', 'Crossgrove'), ('Emelda', 'Gerler'), ('Erastus', 'Payley'), ('Ezra', 'Steffan'), ('Fair', 'Dewen'), ('Fannie', 'Devil'), ('Fee', 'Zellmer'), ('Ford', 'Groucock'), ('Frederic', 'McGown'), ('Frederico', 'Whilder'), ('Freemon', 'Perago'), ('Freida', 'Everil'), ('Gibby', 'Fearnley'), ('Gillian', 'Scrimshire'), ('Giorgio', 'Kevane'), ('Grange', 'Skillington'), ('Gregg', 'Townsend'), ('Ham', 'Pietrusiak'), ('Hector', 'Carwithan'), ('Hilliary', 'Littrell'), ('Idalina', 'Wilcot'), ('Idette', 'Mapam'), ('Ileana', 'Timms'), ('Issiah', 'Fardell'), ('Jarid', 'Grebner'), ('Jeralee', 'Domleo'), ('Joelie', 'Sherlaw'), ('Josy', 'St. Quentin'), ('Junia', 'Humerstone'), ('Kain', 'Rene'), ('Kalila', 'Birtwistle'), ('Karlens', 'Chaffyn'), ('Keith', 'Housden'), ('Kelsy', 'Barrowcliff'), ('Kirby', 'Cameron'), ('Krystle', 'Jovicevic'), ('Leona', 'Phateplace'), ('Lilith', 'Lanning'), ('Lind', 'Dredge'), ('Maddy', 'Larrat'), ('Malachi', 'Hadcroft'), ('Malissia', 'Minthorpe'), ('Marcello', 'Spenclay'), ('Maritsa', 'Bellison'), ('Mart', 'Bazoche'), ('Matthew', 'Jeaycock'), ('Maxim', 'Chavrin'), ('Maxine', 'Cauldwell'), ('Mead', 'Wollard'), ('Mitchel', 'Schimek'), ('Modestia', 'Lithgow'), ('Norine', 'Antonik'), ('Odie', 'Enrrico'), ('Odilia', 'Bick'), ('Odille', 'Panketh'), ('Ole', 'Euplate'), ('Omero', 'Murra'), ('Pail', 'NaN'), ('Patrica', 'Donativo'), ('Raffaello', 'Godleman'), ('Rhodia', \"D'Onise\"), ('Ring', 'Birchall'), ('Roch', 'Rilston'), ('Rochella', 'Harce'), ('Sanders', 'Fernyhough'), ('Shellysheldon', 'Gooderridge'), ('Siegfried', 'Trattles'), ('Sissie', 'Giordano'), ('Stavro', 'Gargett'), ('Stewart', 'Brosoli'), ('Stillman', 'Sackur'), ('Suki', 'Ivachyov'), ('Sutherlan', 'Truin'), ('Thorin', 'Grimoldby'), ('Thorn', 'Choffin'), ('Torr', 'Mintram'), ('Wells', 'Pressman'), ('Yolande', 'Whild'), ('Zoe', 'Kiddye')]\n"
     ]
    }
   ],
   "source": [
    "cursor.execute(f\"\"\"\n",
    "                select distinct c.first_name, c.last_name\n",
    "                from transaction as t left join customer as c on t.customer_id = c.customer_id\n",
    "                where (c.job_industry_category in ('IT', 'Health'))\n",
    "                and (t.order_status = 'Approved')\n",
    "                and (to_timestamp(transaction_date, 'DD.MM.YYYY') between '2017-07-07'::timestamp and '2017-07-17'::timestamp)\n",
    "                \"\"\")\n",
    "result = cursor.fetchall()\n",
    "print(len(result))\n",
    "print(result)"
   ]
  },
  {
   "cell_type": "markdown",
   "metadata": {},
   "source": [
    "# Завершение работы"
   ]
  },
  {
   "cell_type": "code",
   "execution_count": 272,
   "metadata": {},
   "outputs": [],
   "source": [
    "cursor.close()\n",
    "conn.close()"
   ]
  },
  {
   "cell_type": "code",
   "execution_count": null,
   "metadata": {},
   "outputs": [],
   "source": []
  }
 ],
 "metadata": {
  "kernelspec": {
   "display_name": "dsps",
   "language": "python",
   "name": "python3"
  },
  "language_info": {
   "codemirror_mode": {
    "name": "ipython",
    "version": 3
   },
   "file_extension": ".py",
   "mimetype": "text/x-python",
   "name": "python",
   "nbconvert_exporter": "python",
   "pygments_lexer": "ipython3",
   "version": "3.10.13"
  }
 },
 "nbformat": 4,
 "nbformat_minor": 2
}
